{
 "cells": [
  {
   "cell_type": "markdown",
   "metadata": {},
   "source": [
    "# Numpy: n-dimensional arrays\n",
    "\n",
    "Numpy is a library that focuses on n-dimensional arrays and algorithms dealing with numerical problems.\n",
    "\n",
    "Recommended websites:\n",
    "\n",
    "https://numpy.org/\n",
    "\n",
    "https://www.w3schools.com/python/numpy/default.asp\n",
    "\n",
    "These n-dimensional arrays are called tensors (in the context of machine learning). A picture for example could be represented as a 400 x 400 x 3 tensor: it has 400 * 400 pixels and every pixel is described by 3 color channels."
   ]
  },
  {
   "cell_type": "markdown",
   "metadata": {},
   "source": [
    "### Let us create an numpy array:"
   ]
  },
  {
   "cell_type": "code",
   "execution_count": 1,
   "metadata": {},
   "outputs": [
    {
     "name": "stdout",
     "output_type": "stream",
     "text": [
      "[1 2 3 4 5]\n",
      "<class 'numpy.ndarray'>\n"
     ]
    }
   ],
   "source": [
    "import numpy as np\n",
    "\n",
    "arr = np.array(range(1,6))\n",
    "\n",
    "print(arr)\n",
    "\n",
    "print(type(arr))"
   ]
  },
  {
   "cell_type": "markdown",
   "metadata": {},
   "source": [
    "Intialization with a tuple is also possible."
   ]
  },
  {
   "cell_type": "code",
   "execution_count": 2,
   "metadata": {},
   "outputs": [
    {
     "name": "stdout",
     "output_type": "stream",
     "text": [
      "[1 2 3 4 5]\n"
     ]
    }
   ],
   "source": [
    "arr1 = np.array((1, 2, 3, 4, 5))\n",
    "print(arr1)"
   ]
  },
  {
   "cell_type": "markdown",
   "metadata": {},
   "source": [
    "### It is initalized with a list. What is its datatype?"
   ]
  },
  {
   "cell_type": "code",
   "execution_count": 3,
   "metadata": {},
   "outputs": [
    {
     "data": {
      "text/plain": [
       "dtype('int64')"
      ]
     },
     "execution_count": 3,
     "metadata": {},
     "output_type": "execute_result"
    }
   ],
   "source": [
    "arr.dtype"
   ]
  },
  {
   "cell_type": "code",
   "execution_count": 4,
   "metadata": {},
   "outputs": [
    {
     "name": "stdout",
     "output_type": "stream",
     "text": [
      "['1' '2' '3' 'hugo']\n"
     ]
    }
   ],
   "source": [
    "arr2 = np.array([1,2,3,'hugo'])\n",
    "print(arr2)"
   ]
  },
  {
   "cell_type": "code",
   "execution_count": 5,
   "metadata": {},
   "outputs": [
    {
     "data": {
      "text/plain": [
       "dtype('<U21')"
      ]
     },
     "execution_count": 5,
     "metadata": {},
     "output_type": "execute_result"
    }
   ],
   "source": [
    "arr2.dtype"
   ]
  },
  {
   "cell_type": "markdown",
   "metadata": {},
   "source": [
    "Clearly, the most \"highranking\" datatype is used in the array."
   ]
  },
  {
   "cell_type": "markdown",
   "metadata": {},
   "source": [
    "### How do you access array elements?"
   ]
  },
  {
   "cell_type": "code",
   "execution_count": 6,
   "metadata": {
    "scrolled": true
   },
   "outputs": [
    {
     "data": {
      "text/plain": [
       "3"
      ]
     },
     "execution_count": 6,
     "metadata": {},
     "output_type": "execute_result"
    }
   ],
   "source": [
    "arr[1] + arr[0]"
   ]
  },
  {
   "cell_type": "code",
   "execution_count": 7,
   "metadata": {},
   "outputs": [
    {
     "data": {
      "text/plain": [
       "'hugo1'"
      ]
     },
     "execution_count": 7,
     "metadata": {},
     "output_type": "execute_result"
    }
   ],
   "source": [
    "arr2[3] + arr2[0]"
   ]
  },
  {
   "cell_type": "code",
   "execution_count": 8,
   "metadata": {},
   "outputs": [
    {
     "data": {
      "text/plain": [
       "array([2, 3])"
      ]
     },
     "execution_count": 8,
     "metadata": {},
     "output_type": "execute_result"
    }
   ],
   "source": [
    "arr[1:3]"
   ]
  },
  {
   "cell_type": "code",
   "execution_count": 9,
   "metadata": {},
   "outputs": [
    {
     "ename": "TypeError",
     "evalue": "can only concatenate str (not \"numpy.int64\") to str",
     "output_type": "error",
     "traceback": [
      "\u001b[0;31m---------------------------------------------------------------------------\u001b[0m",
      "\u001b[0;31mTypeError\u001b[0m                                 Traceback (most recent call last)",
      "Cell \u001b[0;32mIn[9], line 1\u001b[0m\n\u001b[0;32m----> 1\u001b[0m \u001b[43marr2\u001b[49m\u001b[43m[\u001b[49m\u001b[38;5;241;43m3\u001b[39;49m\u001b[43m]\u001b[49m\u001b[43m \u001b[49m\u001b[38;5;241;43m+\u001b[39;49m\u001b[43m \u001b[49m\u001b[43marr\u001b[49m\u001b[43m[\u001b[49m\u001b[38;5;241;43m0\u001b[39;49m\u001b[43m]\u001b[49m \u001b[38;5;66;03m# what happens here?\u001b[39;00m\n",
      "\u001b[0;31mTypeError\u001b[0m: can only concatenate str (not \"numpy.int64\") to str"
     ]
    }
   ],
   "source": [
    "arr2[3] + arr[0] # what happens here?"
   ]
  },
  {
   "cell_type": "markdown",
   "metadata": {},
   "source": [
    "### What dimension does our array have?"
   ]
  },
  {
   "cell_type": "code",
   "execution_count": null,
   "metadata": {},
   "outputs": [],
   "source": [
    "arr.shape\n",
    "#it is one dimensional with 5 elements "
   ]
  },
  {
   "cell_type": "markdown",
   "metadata": {},
   "source": [
    "### How can we append more elements?"
   ]
  },
  {
   "cell_type": "code",
   "execution_count": null,
   "metadata": {},
   "outputs": [],
   "source": [
    "arr = np.append(arr, [6])"
   ]
  },
  {
   "cell_type": "code",
   "execution_count": null,
   "metadata": {},
   "outputs": [],
   "source": [
    "print(arr)\n",
    "print(arr.shape)"
   ]
  },
  {
   "cell_type": "code",
   "execution_count": null,
   "metadata": {},
   "outputs": [],
   "source": [
    "print(np.append(arr1, (\"hi\")))"
   ]
  },
  {
   "cell_type": "markdown",
   "metadata": {},
   "source": [
    "### Multidimensional Arrays"
   ]
  },
  {
   "cell_type": "markdown",
   "metadata": {},
   "source": [
    "When defining matrices, be aware that the definition is done row-wise. "
   ]
  },
  {
   "cell_type": "code",
   "execution_count": null,
   "metadata": {},
   "outputs": [],
   "source": [
    "mat = np.array([[1,2,3], [4,5,6]])\n",
    "print(mat)"
   ]
  },
  {
   "cell_type": "markdown",
   "metadata": {},
   "source": [
    "Again, you may use tuples."
   ]
  },
  {
   "cell_type": "code",
   "execution_count": null,
   "metadata": {},
   "outputs": [],
   "source": [
    "mat = np.array([(1,2,3), [4,5,6]])\n",
    "print(mat)"
   ]
  },
  {
   "cell_type": "code",
   "execution_count": null,
   "metadata": {},
   "outputs": [],
   "source": [
    "# We have 2 rows and 3 columns\n",
    "mat.shape"
   ]
  },
  {
   "cell_type": "markdown",
   "metadata": {},
   "source": [
    "A single index refers to the rows. "
   ]
  },
  {
   "cell_type": "code",
   "execution_count": null,
   "metadata": {},
   "outputs": [],
   "source": [
    "mat[0]"
   ]
  },
  {
   "cell_type": "markdown",
   "metadata": {},
   "source": [
    "If you want the columns, you may write:"
   ]
  },
  {
   "cell_type": "code",
   "execution_count": null,
   "metadata": {},
   "outputs": [],
   "source": [
    "print(mat[:,1])\n",
    "\n",
    "# or\n",
    "\n",
    "print(mat.T[1])"
   ]
  },
  {
   "cell_type": "markdown",
   "metadata": {},
   "source": [
    "A specific entry is accessed via its exact index position."
   ]
  },
  {
   "cell_type": "code",
   "execution_count": null,
   "metadata": {},
   "outputs": [],
   "source": [
    "mat[1,2]"
   ]
  },
  {
   "cell_type": "markdown",
   "metadata": {},
   "source": [
    "### Beyond 2 dimensions: Tensors"
   ]
  },
  {
   "cell_type": "code",
   "execution_count": 12,
   "metadata": {},
   "outputs": [
    {
     "name": "stdout",
     "output_type": "stream",
     "text": [
      "[[[ 1  2  3]\n",
      "  [ 4  5  6]\n",
      "  [ 7  8  9]]\n",
      "\n",
      " [[-1 -2 -3]\n",
      "  [-4 -5 -6]\n",
      "  [-7 -8 -9]]]\n"
     ]
    }
   ],
   "source": [
    "tens = np.array([[[1,2,3],[4,5,6], [7,8, 9]], [[-1,-2,-3],[-4,-5,-6], [-7,-8,-9]]])\n",
    "print(tens)"
   ]
  },
  {
   "cell_type": "code",
   "execution_count": null,
   "metadata": {},
   "outputs": [],
   "source": [
    "tens[0]"
   ]
  },
  {
   "cell_type": "code",
   "execution_count": null,
   "metadata": {},
   "outputs": [],
   "source": [
    "tens[1]"
   ]
  },
  {
   "cell_type": "code",
   "execution_count": null,
   "metadata": {},
   "outputs": [],
   "source": [
    "tens[0,1]"
   ]
  },
  {
   "cell_type": "code",
   "execution_count": null,
   "metadata": {
    "scrolled": true
   },
   "outputs": [],
   "source": [
    "tens[1,2,2]"
   ]
  },
  {
   "cell_type": "code",
   "execution_count": null,
   "metadata": {},
   "outputs": [],
   "source": [
    "tens.shape"
   ]
  },
  {
   "cell_type": "markdown",
   "metadata": {},
   "source": [
    "### In Data Science, we need to manipulate the Dimension often:"
   ]
  },
  {
   "cell_type": "markdown",
   "metadata": {},
   "source": [
    "flatten turns everything into a vector"
   ]
  },
  {
   "cell_type": "code",
   "execution_count": null,
   "metadata": {},
   "outputs": [],
   "source": [
    "tens.flatten()"
   ]
  },
  {
   "cell_type": "markdown",
   "metadata": {},
   "source": [
    "reshape gives us the ability to transform our array:"
   ]
  },
  {
   "cell_type": "code",
   "execution_count": null,
   "metadata": {},
   "outputs": [],
   "source": [
    "tens.reshape(18,)"
   ]
  },
  {
   "cell_type": "markdown",
   "metadata": {},
   "source": [
    "Obviously, the resulting shape has to be achievable (i.e., the multiplication of the dimensions has to match)"
   ]
  },
  {
   "cell_type": "code",
   "execution_count": null,
   "metadata": {},
   "outputs": [],
   "source": [
    "tens.reshape(3,2,3)"
   ]
  },
  {
   "cell_type": "markdown",
   "metadata": {},
   "source": [
    "Numpy first brings it to the vector form and from therer it builds the new array."
   ]
  },
  {
   "cell_type": "code",
   "execution_count": null,
   "metadata": {},
   "outputs": [],
   "source": [
    "tens.reshape(1,1,2,3,1,3)"
   ]
  },
  {
   "cell_type": "markdown",
   "metadata": {},
   "source": [
    "This was obviously a stupid example. Things can get very complex to understand beyond 3 dimensions."
   ]
  },
  {
   "cell_type": "code",
   "execution_count": null,
   "metadata": {},
   "outputs": [],
   "source": [
    "tens.reshape(1,1,2,3,1,3).shape"
   ]
  },
  {
   "cell_type": "markdown",
   "metadata": {},
   "source": [
    "### Numpy also contains functions that can be applied to Arrays"
   ]
  },
  {
   "cell_type": "code",
   "execution_count": null,
   "metadata": {},
   "outputs": [],
   "source": [
    "tens.sum()"
   ]
  },
  {
   "cell_type": "markdown",
   "metadata": {},
   "source": [
    "Without additional input, the function sums over all entries. Sometimes we want the sum over a specific axis."
   ]
  },
  {
   "cell_type": "code",
   "execution_count": null,
   "metadata": {},
   "outputs": [],
   "source": [
    "print(tens)\n",
    "print(\"Shape: {}\".format(tens.shape))"
   ]
  },
  {
   "cell_type": "code",
   "execution_count": null,
   "metadata": {},
   "outputs": [],
   "source": [
    "tens.sum(axis = 0)"
   ]
  },
  {
   "cell_type": "code",
   "execution_count": null,
   "metadata": {},
   "outputs": [],
   "source": [
    "tens.sum(axis = 1)"
   ]
  },
  {
   "cell_type": "code",
   "execution_count": null,
   "metadata": {},
   "outputs": [],
   "source": [
    "tens.sum(axis = 2)"
   ]
  },
  {
   "cell_type": "code",
   "execution_count": null,
   "metadata": {},
   "outputs": [],
   "source": [
    "tens.sum(axis = 2).shape"
   ]
  },
  {
   "cell_type": "markdown",
   "metadata": {},
   "source": [
    "Of course, there are several built in functions that may be applied."
   ]
  },
  {
   "cell_type": "code",
   "execution_count": 13,
   "metadata": {},
   "outputs": [
    {
     "data": {
      "text/plain": [
       "array([[ 2.,  5.,  8.],\n",
       "       [-2., -5., -8.]])"
      ]
     },
     "execution_count": 13,
     "metadata": {},
     "output_type": "execute_result"
    }
   ],
   "source": [
    "tens.mean(axis = 2)"
   ]
  },
  {
   "cell_type": "markdown",
   "metadata": {},
   "source": [
    "### Let us delete some rows and columns"
   ]
  },
  {
   "cell_type": "code",
   "execution_count": 14,
   "metadata": {},
   "outputs": [
    {
     "data": {
      "text/plain": [
       "array([[[ 1,  2,  3],\n",
       "        [ 4,  5,  6],\n",
       "        [ 7,  8,  9]],\n",
       "\n",
       "       [[-1, -2, -3],\n",
       "        [-4, -5, -6],\n",
       "        [-7, -8, -9]]])"
      ]
     },
     "execution_count": 14,
     "metadata": {},
     "output_type": "execute_result"
    }
   ],
   "source": [
    "tens"
   ]
  },
  {
   "cell_type": "code",
   "execution_count": 16,
   "metadata": {},
   "outputs": [
    {
     "name": "stdout",
     "output_type": "stream",
     "text": [
      "[[[-1 -2 -3]\n",
      "  [-4 -5 -6]\n",
      "  [-7 -8 -9]]]\n",
      "[]\n"
     ]
    }
   ],
   "source": [
    "print(np.delete(tens, [0], axis = 0))\n",
    "print(np.delete(tens, [0,1], axis = 0))"
   ]
  },
  {
   "cell_type": "code",
   "execution_count": 17,
   "metadata": {
    "scrolled": true,
    "tags": []
   },
   "outputs": [
    {
     "data": {
      "text/plain": [
       "array([[[ 7,  8,  9]],\n",
       "\n",
       "       [[-7, -8, -9]]])"
      ]
     },
     "execution_count": 17,
     "metadata": {},
     "output_type": "execute_result"
    }
   ],
   "source": [
    "np.delete(tens, [0,1], axis = 1)"
   ]
  },
  {
   "cell_type": "code",
   "execution_count": 42,
   "metadata": {},
   "outputs": [
    {
     "data": {
      "text/plain": [
       "array([[[ 3],\n",
       "        [ 6],\n",
       "        [ 9]],\n",
       "\n",
       "       [[-3],\n",
       "        [-6],\n",
       "        [-9]]])"
      ]
     },
     "execution_count": 42,
     "metadata": {},
     "output_type": "execute_result"
    }
   ],
   "source": [
    "np.delete(tens, [0,1], axis = 2)"
   ]
  },
  {
   "cell_type": "markdown",
   "metadata": {},
   "source": [
    "### Use the insert command"
   ]
  },
  {
   "cell_type": "code",
   "execution_count": 43,
   "metadata": {},
   "outputs": [
    {
     "data": {
      "text/plain": [
       "array([[1, 2, 3],\n",
       "       [4, 5, 6],\n",
       "       [7, 8, 9]])"
      ]
     },
     "execution_count": 43,
     "metadata": {},
     "output_type": "execute_result"
    }
   ],
   "source": [
    "tens[0]"
   ]
  },
  {
   "cell_type": "code",
   "execution_count": 44,
   "metadata": {
    "scrolled": true,
    "tags": []
   },
   "outputs": [
    {
     "data": {
      "text/plain": [
       "array([[1, 1, 2, 3],\n",
       "       [1, 4, 5, 6],\n",
       "       [1, 7, 8, 9]])"
      ]
     },
     "execution_count": 44,
     "metadata": {},
     "output_type": "execute_result"
    }
   ],
   "source": [
    "np.insert(tens[0], 0, 1, axis = 1)"
   ]
  },
  {
   "cell_type": "code",
   "execution_count": 45,
   "metadata": {
    "scrolled": true
   },
   "outputs": [
    {
     "data": {
      "text/plain": [
       "array([[1, 1, 2, 3],\n",
       "       [4, 1, 5, 6],\n",
       "       [7, 1, 8, 9]])"
      ]
     },
     "execution_count": 45,
     "metadata": {},
     "output_type": "execute_result"
    }
   ],
   "source": [
    "np.insert(tens[0], 1, 1, axis = 1)"
   ]
  },
  {
   "cell_type": "code",
   "execution_count": 46,
   "metadata": {
    "scrolled": true
   },
   "outputs": [
    {
     "data": {
      "text/plain": [
       "array([[1, 1, 1],\n",
       "       [1, 2, 3],\n",
       "       [4, 5, 6],\n",
       "       [7, 8, 9]])"
      ]
     },
     "execution_count": 46,
     "metadata": {},
     "output_type": "execute_result"
    }
   ],
   "source": [
    "np.insert(tens[0], 0, 1, axis = 0)"
   ]
  },
  {
   "cell_type": "code",
   "execution_count": 47,
   "metadata": {
    "scrolled": true
   },
   "outputs": [
    {
     "data": {
      "text/plain": [
       "array([[10, 11, 12],\n",
       "       [ 1,  2,  3],\n",
       "       [ 4,  5,  6],\n",
       "       [ 7,  8,  9]])"
      ]
     },
     "execution_count": 47,
     "metadata": {},
     "output_type": "execute_result"
    }
   ],
   "source": [
    "np.insert(tens[0], 0, [10,11,12], axis = 0)"
   ]
  },
  {
   "cell_type": "code",
   "execution_count": 48,
   "metadata": {
    "scrolled": true
   },
   "outputs": [
    {
     "ename": "ValueError",
     "evalue": "could not broadcast input array from shape (1,4) into shape (1,3)",
     "output_type": "error",
     "traceback": [
      "\u001b[0;31m---------------------------------------------------------------------------\u001b[0m",
      "\u001b[0;31mValueError\u001b[0m                                Traceback (most recent call last)",
      "Cell \u001b[0;32mIn[48], line 1\u001b[0m\n\u001b[0;32m----> 1\u001b[0m \u001b[43mnp\u001b[49m\u001b[38;5;241;43m.\u001b[39;49m\u001b[43minsert\u001b[49m\u001b[43m(\u001b[49m\u001b[43mtens\u001b[49m\u001b[43m[\u001b[49m\u001b[38;5;241;43m0\u001b[39;49m\u001b[43m]\u001b[49m\u001b[43m,\u001b[49m\u001b[43m \u001b[49m\u001b[38;5;241;43m0\u001b[39;49m\u001b[43m,\u001b[49m\u001b[43m \u001b[49m\u001b[43m[\u001b[49m\u001b[38;5;241;43m10\u001b[39;49m\u001b[43m,\u001b[49m\u001b[38;5;241;43m11\u001b[39;49m\u001b[43m,\u001b[49m\u001b[38;5;241;43m12\u001b[39;49m\u001b[43m,\u001b[49m\u001b[38;5;241;43m13\u001b[39;49m\u001b[43m]\u001b[49m\u001b[43m,\u001b[49m\u001b[43m \u001b[49m\u001b[43maxis\u001b[49m\u001b[43m \u001b[49m\u001b[38;5;241;43m=\u001b[39;49m\u001b[43m \u001b[49m\u001b[38;5;241;43m0\u001b[39;49m\u001b[43m)\u001b[49m\n",
      "File \u001b[0;32m<__array_function__ internals>:200\u001b[0m, in \u001b[0;36minsert\u001b[0;34m(*args, **kwargs)\u001b[0m\n",
      "File \u001b[0;32m~/anaconda3/envs/fhj_jodo3.11/lib/python3.11/site-packages/numpy/lib/function_base.py:5406\u001b[0m, in \u001b[0;36minsert\u001b[0;34m(arr, obj, values, axis)\u001b[0m\n\u001b[1;32m   5404\u001b[0m new[\u001b[38;5;28mtuple\u001b[39m(slobj)] \u001b[38;5;241m=\u001b[39m arr[\u001b[38;5;28mtuple\u001b[39m(slobj)]\n\u001b[1;32m   5405\u001b[0m slobj[axis] \u001b[38;5;241m=\u001b[39m \u001b[38;5;28mslice\u001b[39m(index, index\u001b[38;5;241m+\u001b[39mnumnew)\n\u001b[0;32m-> 5406\u001b[0m \u001b[43mnew\u001b[49m\u001b[43m[\u001b[49m\u001b[38;5;28;43mtuple\u001b[39;49m\u001b[43m(\u001b[49m\u001b[43mslobj\u001b[49m\u001b[43m)\u001b[49m\u001b[43m]\u001b[49m \u001b[38;5;241m=\u001b[39m values\n\u001b[1;32m   5407\u001b[0m slobj[axis] \u001b[38;5;241m=\u001b[39m \u001b[38;5;28mslice\u001b[39m(index\u001b[38;5;241m+\u001b[39mnumnew, \u001b[38;5;28;01mNone\u001b[39;00m)\n\u001b[1;32m   5408\u001b[0m slobj2 \u001b[38;5;241m=\u001b[39m [\u001b[38;5;28mslice\u001b[39m(\u001b[38;5;28;01mNone\u001b[39;00m)] \u001b[38;5;241m*\u001b[39m ndim\n",
      "\u001b[0;31mValueError\u001b[0m: could not broadcast input array from shape (1,4) into shape (1,3)"
     ]
    }
   ],
   "source": [
    "np.insert(tens[0], 0, [10,11,12,13], axis = 0)"
   ]
  },
  {
   "cell_type": "code",
   "execution_count": 49,
   "metadata": {},
   "outputs": [
    {
     "name": "stdout",
     "output_type": "stream",
     "text": [
      "[[[10 11 12]\n",
      "  [10 11 12]\n",
      "  [10 11 12]]\n",
      "\n",
      " [[ 1  2  3]\n",
      "  [ 4  5  6]\n",
      "  [ 7  8  9]]\n",
      "\n",
      " [[-1 -2 -3]\n",
      "  [-4 -5 -6]\n",
      "  [-7 -8 -9]]]\n",
      "int64\n"
     ]
    }
   ],
   "source": [
    "print(np.insert(tens, 0, ['10','11', '12'], axis = 0))\n",
    "print(np.insert(tens, 0, ['10','11', '12'], axis = 0).dtype)"
   ]
  },
  {
   "cell_type": "markdown",
   "metadata": {},
   "source": [
    "### Concatenate and join arrays."
   ]
  },
  {
   "cell_type": "code",
   "execution_count": 50,
   "metadata": {},
   "outputs": [
    {
     "data": {
      "text/plain": [
       "array([[ 1,  2,  3],\n",
       "       [ 4,  5,  6],\n",
       "       [ 7,  8,  9],\n",
       "       [-1, -2, -3],\n",
       "       [-4, -5, -6],\n",
       "       [-7, -8, -9]])"
      ]
     },
     "execution_count": 50,
     "metadata": {},
     "output_type": "execute_result"
    }
   ],
   "source": [
    "np.concatenate((tens[0], tens[1]))"
   ]
  },
  {
   "cell_type": "code",
   "execution_count": 51,
   "metadata": {},
   "outputs": [
    {
     "data": {
      "text/plain": [
       "array([[ 1,  2,  3, -1, -2, -3],\n",
       "       [ 4,  5,  6, -4, -5, -6],\n",
       "       [ 7,  8,  9, -7, -8, -9]])"
      ]
     },
     "execution_count": 51,
     "metadata": {},
     "output_type": "execute_result"
    }
   ],
   "source": [
    "np.concatenate((tens[0], tens[1]), axis = 1)"
   ]
  },
  {
   "cell_type": "code",
   "execution_count": 52,
   "metadata": {},
   "outputs": [
    {
     "ename": "AxisError",
     "evalue": "axis 2 is out of bounds for array of dimension 2",
     "output_type": "error",
     "traceback": [
      "\u001b[0;31m---------------------------------------------------------------------------\u001b[0m",
      "\u001b[0;31mAxisError\u001b[0m                                 Traceback (most recent call last)",
      "Cell \u001b[0;32mIn[52], line 1\u001b[0m\n\u001b[0;32m----> 1\u001b[0m \u001b[43mnp\u001b[49m\u001b[38;5;241;43m.\u001b[39;49m\u001b[43mconcatenate\u001b[49m\u001b[43m(\u001b[49m\u001b[43m(\u001b[49m\u001b[43mtens\u001b[49m\u001b[43m[\u001b[49m\u001b[38;5;241;43m0\u001b[39;49m\u001b[43m]\u001b[49m\u001b[43m,\u001b[49m\u001b[43m \u001b[49m\u001b[43mtens\u001b[49m\u001b[43m[\u001b[49m\u001b[38;5;241;43m1\u001b[39;49m\u001b[43m]\u001b[49m\u001b[43m)\u001b[49m\u001b[43m,\u001b[49m\u001b[43m \u001b[49m\u001b[43maxis\u001b[49m\u001b[43m \u001b[49m\u001b[38;5;241;43m=\u001b[39;49m\u001b[43m \u001b[49m\u001b[38;5;241;43m2\u001b[39;49m\u001b[43m)\u001b[49m\n",
      "File \u001b[0;32m<__array_function__ internals>:200\u001b[0m, in \u001b[0;36mconcatenate\u001b[0;34m(*args, **kwargs)\u001b[0m\n",
      "\u001b[0;31mAxisError\u001b[0m: axis 2 is out of bounds for array of dimension 2"
     ]
    }
   ],
   "source": [
    "np.concatenate((tens[0], tens[1]), axis = 2)"
   ]
  },
  {
   "cell_type": "code",
   "execution_count": 53,
   "metadata": {
    "scrolled": true
   },
   "outputs": [
    {
     "data": {
      "text/plain": [
       "array([[[ 1,  2,  3,  1,  2,  3],\n",
       "        [ 4,  5,  6,  4,  5,  6],\n",
       "        [ 7,  8,  9,  7,  8,  9]],\n",
       "\n",
       "       [[-1, -2, -3, -1, -2, -3],\n",
       "        [-4, -5, -6, -4, -5, -6],\n",
       "        [-7, -8, -9, -7, -8, -9]]])"
      ]
     },
     "execution_count": 53,
     "metadata": {},
     "output_type": "execute_result"
    }
   ],
   "source": [
    "np.concatenate((tens, tens), axis = 2)"
   ]
  },
  {
   "attachments": {
    "grafik.png": {
     "image/png": "[encoded data removed]"
    }
   },
   "cell_type": "markdown",
   "metadata": {},
   "source": [
    "# Pandas: Data Frames & Series\n",
    "\n",
    "Recommended Websites for that chapter:\n",
    "\n",
    "https://realpython.com/pandas-dataframe/\n",
    "\n",
    "https://www.tutorialspoint.com/python_pandas/\n",
    "\n",
    "https://www.learndatasci.com/tutorials/python-pandas-tutorial-complete-introduction-for-beginners/\n",
    "\n",
    "Pandas is a library which provides data structures and routines necessary for data analytics. It is based on numpy, which is a library for the quick handling of mathematical objects, especially matrices. Do not worry, it is not necessary to study all aspects and functionality of those two libraries in all detail. With knowledge about a few basic functionalities you can already start analyzing your data. Pandas is – at the moment – extremely popular. The following diagram shows the amount of pandas related questions on Stack Overlow:\n",
    "\n",
    "![grafik.png](attachment:grafik.png)\n",
    "Quelle: https://www.learndatasci.com; Daten von Stack Overflow"
   ]
  },
  {
   "attachments": {
    "grafik.png": {
     "image/png": "[encoded data removed]"
    }
   },
   "cell_type": "markdown",
   "metadata": {},
   "source": [
    "The two most fundamental data structures for data analytics in pandas are: DataFrame and Series. You can imagine a Series as a column in a table. Multiple such columns make up a table. The representation of such a table is a DataFrame.\n",
    "\n",
    "![grafik.png](attachment:grafik.png)\n",
    "Quelle: www.learndatasci.com"
   ]
  },
  {
   "cell_type": "markdown",
   "metadata": {},
   "source": [
    "## DataFrames"
   ]
  },
  {
   "cell_type": "markdown",
   "metadata": {},
   "source": [
    "A DataFrame consists of the following parts:\n",
    "* column headers, i.e., the columnnames\n",
    "* cells arranged in rows and columns\n",
    "* an index, i.e., the “line numbers”\n",
    "\n",
    "You can see these three parts in the diagram above, the column headers holding the names “apples” and “oranges”, the index – that is the line numbers - in grey to the left from 0 to 3, and the cells in white green and orange holding number values. Compared to other collections, a DataFrame has the following properties:\n",
    "* A DataFrame can hold different types of elements\n",
    "* But each column has to contain elements of the same type, thus there is a “column type”\n",
    "* A DataFrame can hold the same element multiple times\n",
    "* You can append new rows or new columns to a DataFrame\n",
    "* If you do not add new rows or columns, new elements must be placed into existing cells"
   ]
  },
  {
   "cell_type": "markdown",
   "metadata": {},
   "source": [
    "### DataFrame creation\n",
    "\n",
    "You can create a DataFrame from an already existing collection (dictionary, list, numpy-array, ...) or directly by loading data of a file (CSV, Excel, etc. ) into a new DataFrame object. Each method of creation has to assure that all parts of a DataFrame – column headers, cells and index are created.\n",
    "\n",
    "If you create a new DataFrame from a dictionary, the keys act as column headers. The values associated to a key make up the cells of the column, the values themselves must be in a tuple, a list, a numpy-array (explained later), a Series. Additionally a few other library based collection types are possible, even single values fit, creation a column with only one cell being filled. The index is either automatically created (consecutive numbering starting at 0), or can be explicitly specified, when invoking the constructor of the DataFrame. Thus you create the DataFrame object by invoking its constructor specifying the following values:\n",
    "* a dictionary\n",
    "* an optional list specifying the index (index auto creation if you omit this value)\n",
    "* a list specifying the order of the columns (otherwise the order is taken lexicographically)"
   ]
  },
  {
   "cell_type": "code",
   "execution_count": 19,
   "metadata": {},
   "outputs": [
    {
     "name": "stdout",
     "output_type": "stream",
     "text": [
      "    Artikel  Preis\n",
      "10    Gurke   1.29\n",
      "20   Tomate   2.99\n",
      "30  Paprika   1.49\n",
      "40    Salat   1.79\n"
     ]
    }
   ],
   "source": [
    "from pandas import DataFrame\n",
    "\n",
    "data = {'Preis' : [1.29, 2.99, 1.49, 1.79], \n",
    "        'Artikel'  : ['Gurke', 'Tomate', 'Paprika', 'Salat']}\n",
    "\n",
    "preisliste = DataFrame(data, \n",
    "                       index = [10,20,30,40], \n",
    "                       columns = ['Artikel', 'Preis'])\n",
    "\n",
    "print(preisliste)"
   ]
  },
  {
   "cell_type": "markdown",
   "metadata": {},
   "source": [
    "Lets try to omit index and column order:"
   ]
  },
  {
   "cell_type": "code",
   "execution_count": 20,
   "metadata": {},
   "outputs": [
    {
     "name": "stdout",
     "output_type": "stream",
     "text": [
      "   Preis  Artikel\n",
      "0   1.29    Gurke\n",
      "1   2.99   Tomate\n",
      "2   1.49  Paprika\n",
      "3   1.79    Salat\n"
     ]
    }
   ],
   "source": [
    "data = {'Preis' : [1.29, 2.99, 1.49, 1.79], \n",
    "        'Artikel'  : ['Gurke', 'Tomate', 'Paprika', 'Salat']}\n",
    "\n",
    "preisliste = DataFrame(data)\n",
    "print(preisliste)"
   ]
  },
  {
   "cell_type": "markdown",
   "metadata": {},
   "source": [
    "Please explain the result on your own."
   ]
  },
  {
   "cell_type": "code",
   "execution_count": 21,
   "metadata": {},
   "outputs": [
    {
     "data": {
      "text/html": [
       "<div>\n",
       "<style scoped>\n",
       "    .dataframe tbody tr th:only-of-type {\n",
       "        vertical-align: middle;\n",
       "    }\n",
       "\n",
       "    .dataframe tbody tr th {\n",
       "        vertical-align: top;\n",
       "    }\n",
       "\n",
       "    .dataframe thead th {\n",
       "        text-align: right;\n",
       "    }\n",
       "</style>\n",
       "<table border=\"1\" class=\"dataframe\">\n",
       "  <thead>\n",
       "    <tr style=\"text-align: right;\">\n",
       "      <th></th>\n",
       "      <th>Preis</th>\n",
       "    </tr>\n",
       "  </thead>\n",
       "  <tbody>\n",
       "    <tr>\n",
       "      <th>count</th>\n",
       "      <td>4.000000</td>\n",
       "    </tr>\n",
       "    <tr>\n",
       "      <th>mean</th>\n",
       "      <td>1.890000</td>\n",
       "    </tr>\n",
       "    <tr>\n",
       "      <th>std</th>\n",
       "      <td>0.761577</td>\n",
       "    </tr>\n",
       "    <tr>\n",
       "      <th>min</th>\n",
       "      <td>1.290000</td>\n",
       "    </tr>\n",
       "    <tr>\n",
       "      <th>25%</th>\n",
       "      <td>1.440000</td>\n",
       "    </tr>\n",
       "    <tr>\n",
       "      <th>50%</th>\n",
       "      <td>1.640000</td>\n",
       "    </tr>\n",
       "    <tr>\n",
       "      <th>75%</th>\n",
       "      <td>2.090000</td>\n",
       "    </tr>\n",
       "    <tr>\n",
       "      <th>max</th>\n",
       "      <td>2.990000</td>\n",
       "    </tr>\n",
       "  </tbody>\n",
       "</table>\n",
       "</div>"
      ],
      "text/plain": [
       "          Preis\n",
       "count  4.000000\n",
       "mean   1.890000\n",
       "std    0.761577\n",
       "min    1.290000\n",
       "25%    1.440000\n",
       "50%    1.640000\n",
       "75%    2.090000\n",
       "max    2.990000"
      ]
     },
     "execution_count": 21,
     "metadata": {},
     "output_type": "execute_result"
    }
   ],
   "source": [
    "preisliste.describe()"
   ]
  },
  {
   "cell_type": "markdown",
   "metadata": {},
   "source": [
    "Alternatively you can use a list holding the rows of the DataFrame to be created. These rows are again lists. The column names are specified – like the index – in the constructor, not in the list. The order of the columns is defined by the order of the elements in the lists representing the rows:"
   ]
  },
  {
   "cell_type": "code",
   "execution_count": 56,
   "metadata": {},
   "outputs": [
    {
     "name": "stdout",
     "output_type": "stream",
     "text": [
      "    Preis  Artikel\n",
      "10   1.29    Gurke\n",
      "20   2.99   Tomate\n",
      "30   1.49  Paprika\n",
      "40   1.79    Salat\n"
     ]
    }
   ],
   "source": [
    "data = [ [1.29, 'Gurke'], \n",
    "         [2.99, 'Tomate'], \n",
    "         [1.49, 'Paprika'], \n",
    "         [1.79, 'Salat'] ]\n",
    "\n",
    "preisliste = DataFrame(data, \n",
    "                       index = [10,20,30,40], \n",
    "                       columns = ['Preis', 'Artikel'])\n",
    "print(preisliste)"
   ]
  },
  {
   "cell_type": "markdown",
   "metadata": {},
   "source": [
    "If you want to specify the column order in the constructor, your rows have to be provided as dictionaries, contained in your list:"
   ]
  },
  {
   "cell_type": "code",
   "execution_count": 57,
   "metadata": {},
   "outputs": [
    {
     "name": "stdout",
     "output_type": "stream",
     "text": [
      "    Artikel  Preis\n",
      "10    Gurke   1.29\n",
      "20   Tomate   2.99\n",
      "30  Paprika   1.49\n",
      "40    Salat   1.79\n"
     ]
    }
   ],
   "source": [
    "data = [ {'Preis' : 1.29, 'Artikel' : 'Gurke'}, \n",
    "         {'Artikel' : 'Tomate', 'Preis' : 2.99}, \n",
    "         {'Preis' : 1.49, 'Artikel' : 'Paprika'}, \n",
    "         {'Artikel' : 'Salat', 'Preis' : 1.79} ]\n",
    "\n",
    "preisliste = DataFrame(data, \n",
    "                       index = [10,20,30,40], \n",
    "                       columns = ['Artikel', 'Preis'])\n",
    "\n",
    "print(preisliste)"
   ]
  },
  {
   "cell_type": "markdown",
   "metadata": {},
   "source": [
    "Constructing a DataFrame in that way, you can create a DataFrame holding empty cells. Whenever a column entry is missing in a row, an empty cell is created. Empty cells are represented with the symbol “nan” from the numpy library:"
   ]
  },
  {
   "cell_type": "code",
   "execution_count": 58,
   "metadata": {},
   "outputs": [
    {
     "name": "stdout",
     "output_type": "stream",
     "text": [
      "    Artikel  Preis lagernd\n",
      "10    Gurke   1.29    True\n",
      "20   Tomate    NaN   False\n",
      "30  Paprika   1.49     NaN\n",
      "40      NaN   1.79    True\n"
     ]
    }
   ],
   "source": [
    "data = [ {'Preis' : 1.29, 'Artikel' : 'Gurke', 'lagernd' : 'True'}, \n",
    "         {'Artikel' : 'Tomate', 'lagernd' : False}, \n",
    "         {'Preis' : 1.49, 'Artikel' : 'Paprika'}, \n",
    "         {'lagernd' : 'True', 'Preis' : 1.79} ]\n",
    "\n",
    "preisliste = DataFrame(data, \n",
    "                       index = [10,20,30,40], \n",
    "                       columns = ['Artikel', 'Preis', 'lagernd'])\n",
    "\n",
    "print(preisliste)"
   ]
  },
  {
   "cell_type": "markdown",
   "metadata": {},
   "source": [
    "Examine the “nan” values in the output above!"
   ]
  },
  {
   "cell_type": "markdown",
   "metadata": {},
   "source": [
    "If you construct the DataFrame with a numpy array instead of a list, missing values have to be set explicitely:"
   ]
  },
  {
   "cell_type": "code",
   "execution_count": 59,
   "metadata": {},
   "outputs": [
    {
     "name": "stdout",
     "output_type": "stream",
     "text": [
      "    Preis Artikel\n",
      "10   1.29   Gurke\n",
      "20    NaN  Tomate\n",
      "30   1.49     NaN\n",
      "40   1.79   Salat\n"
     ]
    }
   ],
   "source": [
    "from numpy import nan\n",
    "\n",
    "data = [ [1.29, 'Gurke'], \n",
    "         [nan, 'Tomate'], \n",
    "         [1.49, nan], \n",
    "         [1.79, 'Salat'] ]\n",
    "\n",
    "preisliste = DataFrame(data, \n",
    "                       index = [10,20,30,40], \n",
    "                       columns = ['Preis', 'Artikel'])\n",
    "print(preisliste)"
   ]
  },
  {
   "cell_type": "markdown",
   "metadata": {},
   "source": [
    "Finally, let us have a look at DataFrame creation from a file. Please download file dnd_spells.csv” from the eLearning Platform (downloaded from <a href=\"https://www.kaggle.com/datasets/mrpantherson/dndspells?resource=download\">kaggle</a>). It is a classic csv file, where data is organized in rows, data cells are separated from each other by the comma separator. The data represents a current list of all magic spells for the current 5th edition of Dungeons & Dragons. Please copy the file into the folder of your python project, then try the following:"
   ]
  },
  {
   "cell_type": "code",
   "execution_count": 60,
   "metadata": {},
   "outputs": [
    {
     "data": {
      "text/html": [
       "<div>\n",
       "<style scoped>\n",
       "    .dataframe tbody tr th:only-of-type {\n",
       "        vertical-align: middle;\n",
       "    }\n",
       "\n",
       "    .dataframe tbody tr th {\n",
       "        vertical-align: top;\n",
       "    }\n",
       "\n",
       "    .dataframe thead th {\n",
       "        text-align: right;\n",
       "    }\n",
       "</style>\n",
       "<table border=\"1\" class=\"dataframe\">\n",
       "  <thead>\n",
       "    <tr style=\"text-align: right;\">\n",
       "      <th></th>\n",
       "      <th>name</th>\n",
       "      <th>classes</th>\n",
       "      <th>level</th>\n",
       "      <th>school</th>\n",
       "      <th>cast_time</th>\n",
       "      <th>range</th>\n",
       "      <th>duration</th>\n",
       "      <th>verbal</th>\n",
       "      <th>somatic</th>\n",
       "      <th>material</th>\n",
       "      <th>material_cost</th>\n",
       "      <th>description</th>\n",
       "    </tr>\n",
       "  </thead>\n",
       "  <tbody>\n",
       "    <tr>\n",
       "      <th>0</th>\n",
       "      <td>Acid Splash</td>\n",
       "      <td>Artificer, Sorcerer, Wizard</td>\n",
       "      <td>0</td>\n",
       "      <td>Conjuration</td>\n",
       "      <td>1 Action</td>\n",
       "      <td>60 Feet</td>\n",
       "      <td>Instantaneous</td>\n",
       "      <td>1</td>\n",
       "      <td>1</td>\n",
       "      <td>0</td>\n",
       "      <td>NaN</td>\n",
       "      <td>You hurl a bubble of acid. Choose one creature...</td>\n",
       "    </tr>\n",
       "    <tr>\n",
       "      <th>1</th>\n",
       "      <td>Blade Ward</td>\n",
       "      <td>Bard, Sorcerer, Warlock, Wizard</td>\n",
       "      <td>0</td>\n",
       "      <td>Abjuration</td>\n",
       "      <td>1 Action</td>\n",
       "      <td>Self</td>\n",
       "      <td>1 round</td>\n",
       "      <td>1</td>\n",
       "      <td>1</td>\n",
       "      <td>0</td>\n",
       "      <td>NaN</td>\n",
       "      <td>You extend your hand and trace a sigil of ward...</td>\n",
       "    </tr>\n",
       "    <tr>\n",
       "      <th>2</th>\n",
       "      <td>Booming Blade</td>\n",
       "      <td>Artificer, Sorcerer, Warlock, Wizard</td>\n",
       "      <td>0</td>\n",
       "      <td>Evocation</td>\n",
       "      <td>1 Action</td>\n",
       "      <td>Self (5-foot radius)</td>\n",
       "      <td>1 round</td>\n",
       "      <td>0</td>\n",
       "      <td>1</td>\n",
       "      <td>1</td>\n",
       "      <td>a melee weapon worth at least 1 sp</td>\n",
       "      <td>You brandish the weapon used in the spell’s ca...</td>\n",
       "    </tr>\n",
       "    <tr>\n",
       "      <th>3</th>\n",
       "      <td>Chill Touch</td>\n",
       "      <td>Sorcerer, Warlock, Wizard</td>\n",
       "      <td>0</td>\n",
       "      <td>Necromancy</td>\n",
       "      <td>1 Action</td>\n",
       "      <td>120 Feet</td>\n",
       "      <td>1 round</td>\n",
       "      <td>1</td>\n",
       "      <td>1</td>\n",
       "      <td>0</td>\n",
       "      <td>NaN</td>\n",
       "      <td>You create a ghostly, skeletal hand in the spa...</td>\n",
       "    </tr>\n",
       "    <tr>\n",
       "      <th>4</th>\n",
       "      <td>Control Flames</td>\n",
       "      <td>Druid, Sorcerer, Wizard</td>\n",
       "      <td>0</td>\n",
       "      <td>Transmutation</td>\n",
       "      <td>1 Action</td>\n",
       "      <td>60 Feet</td>\n",
       "      <td>Instantaneous or 1 hour</td>\n",
       "      <td>0</td>\n",
       "      <td>1</td>\n",
       "      <td>0</td>\n",
       "      <td>NaN</td>\n",
       "      <td>You choose nonmagical flame that you can see w...</td>\n",
       "    </tr>\n",
       "  </tbody>\n",
       "</table>\n",
       "</div>"
      ],
      "text/plain": [
       "             name                               classes  level         school  \\\n",
       "0     Acid Splash           Artificer, Sorcerer, Wizard      0    Conjuration   \n",
       "1      Blade Ward       Bard, Sorcerer, Warlock, Wizard      0     Abjuration   \n",
       "2   Booming Blade  Artificer, Sorcerer, Warlock, Wizard      0      Evocation   \n",
       "3     Chill Touch             Sorcerer, Warlock, Wizard      0     Necromancy   \n",
       "4  Control Flames               Druid, Sorcerer, Wizard      0  Transmutation   \n",
       "\n",
       "  cast_time                 range                 duration  verbal  somatic  \\\n",
       "0  1 Action               60 Feet            Instantaneous       1        1   \n",
       "1  1 Action                  Self                  1 round       1        1   \n",
       "2  1 Action  Self (5-foot radius)                  1 round       0        1   \n",
       "3  1 Action              120 Feet                  1 round       1        1   \n",
       "4  1 Action               60 Feet  Instantaneous or 1 hour       0        1   \n",
       "\n",
       "   material                       material_cost  \\\n",
       "0         0                                 NaN   \n",
       "1         0                                 NaN   \n",
       "2         1  a melee weapon worth at least 1 sp   \n",
       "3         0                                 NaN   \n",
       "4         0                                 NaN   \n",
       "\n",
       "                                         description  \n",
       "0  You hurl a bubble of acid. Choose one creature...  \n",
       "1  You extend your hand and trace a sigil of ward...  \n",
       "2  You brandish the weapon used in the spell’s ca...  \n",
       "3  You create a ghostly, skeletal hand in the spa...  \n",
       "4  You choose nonmagical flame that you can see w...  "
      ]
     },
     "execution_count": 60,
     "metadata": {},
     "output_type": "execute_result"
    }
   ],
   "source": [
    "import pandas as pd \n",
    "\n",
    "spells5e = pd.read_csv('dnd_spells.csv')\n",
    "\n",
    "spells5e.head()"
   ]
  },
  {
   "cell_type": "markdown",
   "metadata": {},
   "source": [
    "The output shows, that the first row of data is automatically used for the column names and that an index starting at 0\" with step 1 is auto created. Please note also the nan values in column \"material cost\"."
   ]
  },
  {
   "cell_type": "markdown",
   "metadata": {},
   "source": [
    "### Retrieval of DataFrame meta data\n",
    "\n",
    "DataFrame provides two properties “columns” and “index” such that you can access the names of columns and the index values of all rows. In the following we use a DataFrame \"spells5e\" filled with data from \"dnd_spells.csv”:"
   ]
  },
  {
   "cell_type": "code",
   "execution_count": 61,
   "metadata": {},
   "outputs": [
    {
     "name": "stdout",
     "output_type": "stream",
     "text": [
      "RangeIndex(start=0, stop=554, step=1)\n",
      "Index(['name', 'classes', 'level', 'school', 'cast_time', 'range', 'duration',\n",
      "       'verbal', 'somatic', 'material', 'material_cost', 'description'],\n",
      "      dtype='object')\n"
     ]
    }
   ],
   "source": [
    "idx = spells5e.index\n",
    "cols = spells5e.columns\n",
    "\n",
    "print(idx)\n",
    "print(cols)"
   ]
  },
  {
   "cell_type": "markdown",
   "metadata": {},
   "source": [
    "Please notice that index and columns are not methods but attributes of DataFrame. You access an attribute by typing its name after the dot operator, there are no round brackets! The index itself is an abstract object. If you want to see the values in a list, you have to query the “values” attribute of the index object:"
   ]
  },
  {
   "cell_type": "code",
   "execution_count": 62,
   "metadata": {},
   "outputs": [
    {
     "name": "stdout",
     "output_type": "stream",
     "text": [
      "[  0   1   2   3   4   5   6   7   8   9  10  11  12  13  14  15  16  17\n",
      "  18  19  20  21  22  23  24  25  26  27  28  29  30  31  32  33  34  35\n",
      "  36  37  38  39  40  41  42  43  44  45  46  47  48  49  50  51  52  53\n",
      "  54  55  56  57  58  59  60  61  62  63  64  65  66  67  68  69  70  71\n",
      "  72  73  74  75  76  77  78  79  80  81  82  83  84  85  86  87  88  89\n",
      "  90  91  92  93  94  95  96  97  98  99 100 101 102 103 104 105 106 107\n",
      " 108 109 110 111 112 113 114 115 116 117 118 119 120 121 122 123 124 125\n",
      " 126 127 128 129 130 131 132 133 134 135 136 137 138 139 140 141 142 143\n",
      " 144 145 146 147 148 149 150 151 152 153 154 155 156 157 158 159 160 161\n",
      " 162 163 164 165 166 167 168 169 170 171 172 173 174 175 176 177 178 179\n",
      " 180 181 182 183 184 185 186 187 188 189 190 191 192 193 194 195 196 197\n",
      " 198 199 200 201 202 203 204 205 206 207 208 209 210 211 212 213 214 215\n",
      " 216 217 218 219 220 221 222 223 224 225 226 227 228 229 230 231 232 233\n",
      " 234 235 236 237 238 239 240 241 242 243 244 245 246 247 248 249 250 251\n",
      " 252 253 254 255 256 257 258 259 260 261 262 263 264 265 266 267 268 269\n",
      " 270 271 272 273 274 275 276 277 278 279 280 281 282 283 284 285 286 287\n",
      " 288 289 290 291 292 293 294 295 296 297 298 299 300 301 302 303 304 305\n",
      " 306 307 308 309 310 311 312 313 314 315 316 317 318 319 320 321 322 323\n",
      " 324 325 326 327 328 329 330 331 332 333 334 335 336 337 338 339 340 341\n",
      " 342 343 344 345 346 347 348 349 350 351 352 353 354 355 356 357 358 359\n",
      " 360 361 362 363 364 365 366 367 368 369 370 371 372 373 374 375 376 377\n",
      " 378 379 380 381 382 383 384 385 386 387 388 389 390 391 392 393 394 395\n",
      " 396 397 398 399 400 401 402 403 404 405 406 407 408 409 410 411 412 413\n",
      " 414 415 416 417 418 419 420 421 422 423 424 425 426 427 428 429 430 431\n",
      " 432 433 434 435 436 437 438 439 440 441 442 443 444 445 446 447 448 449\n",
      " 450 451 452 453 454 455 456 457 458 459 460 461 462 463 464 465 466 467\n",
      " 468 469 470 471 472 473 474 475 476 477 478 479 480 481 482 483 484 485\n",
      " 486 487 488 489 490 491 492 493 494 495 496 497 498 499 500 501 502 503\n",
      " 504 505 506 507 508 509 510 511 512 513 514 515 516 517 518 519 520 521\n",
      " 522 523 524 525 526 527 528 529 530 531 532 533 534 535 536 537 538 539\n",
      " 540 541 542 543 544 545 546 547 548 549 550 551 552 553]\n",
      "<class 'numpy.ndarray'>\n"
     ]
    }
   ],
   "source": [
    "print(idx.values)\n",
    "print(type(idx.values) )"
   ]
  },
  {
   "cell_type": "markdown",
   "metadata": {},
   "source": [
    "Thus to get the name of the third column, you simple take the element at position 2 (list positions start with 0) from result of the columns attribute:"
   ]
  },
  {
   "cell_type": "code",
   "execution_count": 63,
   "metadata": {},
   "outputs": [
    {
     "name": "stdout",
     "output_type": "stream",
     "text": [
      "level\n"
     ]
    }
   ],
   "source": [
    "print(spells5e.columns[2])"
   ]
  },
  {
   "cell_type": "markdown",
   "metadata": {},
   "source": [
    "As already said, DataFrame columns have fixed data types. If you want to get an overview of the column data types, you query the “dtypes” attribute."
   ]
  },
  {
   "cell_type": "code",
   "execution_count": 64,
   "metadata": {},
   "outputs": [
    {
     "name": "stdout",
     "output_type": "stream",
     "text": [
      "name             object\n",
      "classes          object\n",
      "level             int64\n",
      "school           object\n",
      "cast_time        object\n",
      "range            object\n",
      "duration         object\n",
      "verbal            int64\n",
      "somatic           int64\n",
      "material          int64\n",
      "material_cost    object\n",
      "description      object\n",
      "dtype: object\n"
     ]
    }
   ],
   "source": [
    "print(spells5e.dtypes)"
   ]
  },
  {
   "cell_type": "code",
   "execution_count": 65,
   "metadata": {},
   "outputs": [
    {
     "name": "stdout",
     "output_type": "stream",
     "text": [
      "int64\n",
      "int64\n"
     ]
    }
   ],
   "source": [
    "# Since spells5e.dtypes is just a collection, you can either use\n",
    "# position index or name like a key to access the column datatype\n",
    "\n",
    "print( spells5e.dtypes[2])          # data type of the level column\n",
    "print( spells5e.dtypes['level'] ) # data type of the level column"
   ]
  },
  {
   "cell_type": "code",
   "execution_count": 66,
   "metadata": {},
   "outputs": [
    {
     "name": "stdout",
     "output_type": "stream",
     "text": [
      "int64\n",
      "int64\n"
     ]
    }
   ],
   "source": [
    "# Alternatively you can write this the following way\n",
    "print( spells5e['level'].dtypes )\n",
    "print( spells5e.level.dtypes )"
   ]
  },
  {
   "cell_type": "markdown",
   "metadata": {},
   "source": [
    "So there appear to be four similar ways to get a columns data type! It is also possible to change the data type manually, let’s interpret the numbers of level as strings. You do this using the .astype() method of DataFrame. Its parameter dtype gets a dictionary, keys represent columns and associate values indicate the new data types to assign:"
   ]
  },
  {
   "cell_type": "code",
   "execution_count": 67,
   "metadata": {},
   "outputs": [
    {
     "name": "stdout",
     "output_type": "stream",
     "text": [
      "name             object\n",
      "classes          object\n",
      "level             int64\n",
      "school           object\n",
      "cast_time        object\n",
      "range            object\n",
      "duration         object\n",
      "verbal            int64\n",
      "somatic           int64\n",
      "material          int64\n",
      "material_cost    object\n",
      "description      object\n",
      "dtype: object\n",
      "name             object\n",
      "classes          object\n",
      "level            object\n",
      "school           object\n",
      "cast_time        object\n",
      "range            object\n",
      "duration         object\n",
      "verbal            int64\n",
      "somatic           int64\n",
      "material          int64\n",
      "material_cost    object\n",
      "description      object\n",
      "dtype: object\n"
     ]
    }
   ],
   "source": [
    "print(spells5e.dtypes)\n",
    "spells5e = spells5e.astype(dtype={'level' : 'str'})\n",
    "print(spells5e.dtypes)"
   ]
  },
  {
   "cell_type": "markdown",
   "metadata": {},
   "source": [
    "Please note that the new data type of column \"level\" is displayed as “object”. Strings are viewed as objects by Python."
   ]
  },
  {
   "cell_type": "markdown",
   "metadata": {},
   "source": [
    "If you want to get the number of colums/row/elements, you stick to the shape attribute of a DataFrame. This method returns a tuple, holding the number of rows followed by the number of columns:"
   ]
  },
  {
   "cell_type": "code",
   "execution_count": 68,
   "metadata": {},
   "outputs": [
    {
     "name": "stdout",
     "output_type": "stream",
     "text": [
      "(554, 12)\n",
      "There are 12 columns\n",
      "There are 554 rows\n",
      "There are still 554 rows\n",
      "There are 6648 elements\n",
      "There are 6648 elements\n"
     ]
    }
   ],
   "source": [
    "print(spells5e.shape)\n",
    "print('There are {} columns'.format(spells5e.shape[1]))\n",
    "print('There are {} rows'.format(spells5e.shape[0]))\n",
    "print('There are still {} rows'.format(len(spells5e)))\n",
    "print('There are {} elements'.format(spells5e.shape[0] * spells5e.shape[1]))\n",
    "\n",
    "# Alternatively the size attribute\n",
    "print('There are {} elements'.format(spells5e.size))"
   ]
  },
  {
   "cell_type": "markdown",
   "metadata": {},
   "source": [
    "### Data Access\n",
    "\n",
    "Two attributes provide basic data access:\n",
    "* loc provides access to a cell at a certain row and column by index number/column name\n",
    "* iloc provides access to a cell at a certain row and column by row number/column numbering.\n",
    "What is the difference between a row index number and a row number? To see this in practice we change the index labels to become ten times higher than initially:"
   ]
  },
  {
   "cell_type": "code",
   "execution_count": 69,
   "metadata": {},
   "outputs": [
    {
     "data": {
      "text/html": [
       "<div>\n",
       "<style scoped>\n",
       "    .dataframe tbody tr th:only-of-type {\n",
       "        vertical-align: middle;\n",
       "    }\n",
       "\n",
       "    .dataframe tbody tr th {\n",
       "        vertical-align: top;\n",
       "    }\n",
       "\n",
       "    .dataframe thead th {\n",
       "        text-align: right;\n",
       "    }\n",
       "</style>\n",
       "<table border=\"1\" class=\"dataframe\">\n",
       "  <thead>\n",
       "    <tr style=\"text-align: right;\">\n",
       "      <th></th>\n",
       "      <th>name</th>\n",
       "      <th>classes</th>\n",
       "      <th>level</th>\n",
       "      <th>school</th>\n",
       "      <th>cast_time</th>\n",
       "      <th>range</th>\n",
       "      <th>duration</th>\n",
       "      <th>verbal</th>\n",
       "      <th>somatic</th>\n",
       "      <th>material</th>\n",
       "      <th>material_cost</th>\n",
       "      <th>description</th>\n",
       "    </tr>\n",
       "  </thead>\n",
       "  <tbody>\n",
       "    <tr>\n",
       "      <th>0</th>\n",
       "      <td>Acid Splash</td>\n",
       "      <td>Artificer, Sorcerer, Wizard</td>\n",
       "      <td>0</td>\n",
       "      <td>Conjuration</td>\n",
       "      <td>1 Action</td>\n",
       "      <td>60 Feet</td>\n",
       "      <td>Instantaneous</td>\n",
       "      <td>1</td>\n",
       "      <td>1</td>\n",
       "      <td>0</td>\n",
       "      <td>NaN</td>\n",
       "      <td>You hurl a bubble of acid. Choose one creature...</td>\n",
       "    </tr>\n",
       "    <tr>\n",
       "      <th>1</th>\n",
       "      <td>Blade Ward</td>\n",
       "      <td>Bard, Sorcerer, Warlock, Wizard</td>\n",
       "      <td>0</td>\n",
       "      <td>Abjuration</td>\n",
       "      <td>1 Action</td>\n",
       "      <td>Self</td>\n",
       "      <td>1 round</td>\n",
       "      <td>1</td>\n",
       "      <td>1</td>\n",
       "      <td>0</td>\n",
       "      <td>NaN</td>\n",
       "      <td>You extend your hand and trace a sigil of ward...</td>\n",
       "    </tr>\n",
       "    <tr>\n",
       "      <th>2</th>\n",
       "      <td>Booming Blade</td>\n",
       "      <td>Artificer, Sorcerer, Warlock, Wizard</td>\n",
       "      <td>0</td>\n",
       "      <td>Evocation</td>\n",
       "      <td>1 Action</td>\n",
       "      <td>Self (5-foot radius)</td>\n",
       "      <td>1 round</td>\n",
       "      <td>0</td>\n",
       "      <td>1</td>\n",
       "      <td>1</td>\n",
       "      <td>a melee weapon worth at least 1 sp</td>\n",
       "      <td>You brandish the weapon used in the spell’s ca...</td>\n",
       "    </tr>\n",
       "    <tr>\n",
       "      <th>3</th>\n",
       "      <td>Chill Touch</td>\n",
       "      <td>Sorcerer, Warlock, Wizard</td>\n",
       "      <td>0</td>\n",
       "      <td>Necromancy</td>\n",
       "      <td>1 Action</td>\n",
       "      <td>120 Feet</td>\n",
       "      <td>1 round</td>\n",
       "      <td>1</td>\n",
       "      <td>1</td>\n",
       "      <td>0</td>\n",
       "      <td>NaN</td>\n",
       "      <td>You create a ghostly, skeletal hand in the spa...</td>\n",
       "    </tr>\n",
       "    <tr>\n",
       "      <th>4</th>\n",
       "      <td>Control Flames</td>\n",
       "      <td>Druid, Sorcerer, Wizard</td>\n",
       "      <td>0</td>\n",
       "      <td>Transmutation</td>\n",
       "      <td>1 Action</td>\n",
       "      <td>60 Feet</td>\n",
       "      <td>Instantaneous or 1 hour</td>\n",
       "      <td>0</td>\n",
       "      <td>1</td>\n",
       "      <td>0</td>\n",
       "      <td>NaN</td>\n",
       "      <td>You choose nonmagical flame that you can see w...</td>\n",
       "    </tr>\n",
       "  </tbody>\n",
       "</table>\n",
       "</div>"
      ],
      "text/plain": [
       "             name                               classes level         school  \\\n",
       "0     Acid Splash           Artificer, Sorcerer, Wizard     0    Conjuration   \n",
       "1      Blade Ward       Bard, Sorcerer, Warlock, Wizard     0     Abjuration   \n",
       "2   Booming Blade  Artificer, Sorcerer, Warlock, Wizard     0      Evocation   \n",
       "3     Chill Touch             Sorcerer, Warlock, Wizard     0     Necromancy   \n",
       "4  Control Flames               Druid, Sorcerer, Wizard     0  Transmutation   \n",
       "\n",
       "  cast_time                 range                 duration  verbal  somatic  \\\n",
       "0  1 Action               60 Feet            Instantaneous       1        1   \n",
       "1  1 Action                  Self                  1 round       1        1   \n",
       "2  1 Action  Self (5-foot radius)                  1 round       0        1   \n",
       "3  1 Action              120 Feet                  1 round       1        1   \n",
       "4  1 Action               60 Feet  Instantaneous or 1 hour       0        1   \n",
       "\n",
       "   material                       material_cost  \\\n",
       "0         0                                 NaN   \n",
       "1         0                                 NaN   \n",
       "2         1  a melee weapon worth at least 1 sp   \n",
       "3         0                                 NaN   \n",
       "4         0                                 NaN   \n",
       "\n",
       "                                         description  \n",
       "0  You hurl a bubble of acid. Choose one creature...  \n",
       "1  You extend your hand and trace a sigil of ward...  \n",
       "2  You brandish the weapon used in the spell’s ca...  \n",
       "3  You create a ghostly, skeletal hand in the spa...  \n",
       "4  You choose nonmagical flame that you can see w...  "
      ]
     },
     "execution_count": 69,
     "metadata": {},
     "output_type": "execute_result"
    }
   ],
   "source": [
    "# Let’s review the DataFrame\n",
    "spells5e.head()"
   ]
  },
  {
   "cell_type": "code",
   "execution_count": 70,
   "metadata": {},
   "outputs": [
    {
     "name": "stdout",
     "output_type": "stream",
     "text": [
      "[   0   10   20   30   40   50   60   70   80   90  100  110  120  130\n",
      "  140  150  160  170  180  190  200  210  220  230  240  250  260  270\n",
      "  280  290  300  310  320  330  340  350  360  370  380  390  400  410\n",
      "  420  430  440  450  460  470  480  490  500  510  520  530  540  550\n",
      "  560  570  580  590  600  610  620  630  640  650  660  670  680  690\n",
      "  700  710  720  730  740  750  760  770  780  790  800  810  820  830\n",
      "  840  850  860  870  880  890  900  910  920  930  940  950  960  970\n",
      "  980  990 1000 1010 1020 1030 1040 1050 1060 1070 1080 1090 1100 1110\n",
      " 1120 1130 1140 1150 1160 1170 1180 1190 1200 1210 1220 1230 1240 1250\n",
      " 1260 1270 1280 1290 1300 1310 1320 1330 1340 1350 1360 1370 1380 1390\n",
      " 1400 1410 1420 1430 1440 1450 1460 1470 1480 1490 1500 1510 1520 1530\n",
      " 1540 1550 1560 1570 1580 1590 1600 1610 1620 1630 1640 1650 1660 1670\n",
      " 1680 1690 1700 1710 1720 1730 1740 1750 1760 1770 1780 1790 1800 1810\n",
      " 1820 1830 1840 1850 1860 1870 1880 1890 1900 1910 1920 1930 1940 1950\n",
      " 1960 1970 1980 1990 2000 2010 2020 2030 2040 2050 2060 2070 2080 2090\n",
      " 2100 2110 2120 2130 2140 2150 2160 2170 2180 2190 2200 2210 2220 2230\n",
      " 2240 2250 2260 2270 2280 2290 2300 2310 2320 2330 2340 2350 2360 2370\n",
      " 2380 2390 2400 2410 2420 2430 2440 2450 2460 2470 2480 2490 2500 2510\n",
      " 2520 2530 2540 2550 2560 2570 2580 2590 2600 2610 2620 2630 2640 2650\n",
      " 2660 2670 2680 2690 2700 2710 2720 2730 2740 2750 2760 2770 2780 2790\n",
      " 2800 2810 2820 2830 2840 2850 2860 2870 2880 2890 2900 2910 2920 2930\n",
      " 2940 2950 2960 2970 2980 2990 3000 3010 3020 3030 3040 3050 3060 3070\n",
      " 3080 3090 3100 3110 3120 3130 3140 3150 3160 3170 3180 3190 3200 3210\n",
      " 3220 3230 3240 3250 3260 3270 3280 3290 3300 3310 3320 3330 3340 3350\n",
      " 3360 3370 3380 3390 3400 3410 3420 3430 3440 3450 3460 3470 3480 3490\n",
      " 3500 3510 3520 3530 3540 3550 3560 3570 3580 3590 3600 3610 3620 3630\n",
      " 3640 3650 3660 3670 3680 3690 3700 3710 3720 3730 3740 3750 3760 3770\n",
      " 3780 3790 3800 3810 3820 3830 3840 3850 3860 3870 3880 3890 3900 3910\n",
      " 3920 3930 3940 3950 3960 3970 3980 3990 4000 4010 4020 4030 4040 4050\n",
      " 4060 4070 4080 4090 4100 4110 4120 4130 4140 4150 4160 4170 4180 4190\n",
      " 4200 4210 4220 4230 4240 4250 4260 4270 4280 4290 4300 4310 4320 4330\n",
      " 4340 4350 4360 4370 4380 4390 4400 4410 4420 4430 4440 4450 4460 4470\n",
      " 4480 4490 4500 4510 4520 4530 4540 4550 4560 4570 4580 4590 4600 4610\n",
      " 4620 4630 4640 4650 4660 4670 4680 4690 4700 4710 4720 4730 4740 4750\n",
      " 4760 4770 4780 4790 4800 4810 4820 4830 4840 4850 4860 4870 4880 4890\n",
      " 4900 4910 4920 4930 4940 4950 4960 4970 4980 4990 5000 5010 5020 5030\n",
      " 5040 5050 5060 5070 5080 5090 5100 5110 5120 5130 5140 5150 5160 5170\n",
      " 5180 5190 5200 5210 5220 5230 5240 5250 5260 5270 5280 5290 5300 5310\n",
      " 5320 5330 5340 5350 5360 5370 5380 5390 5400 5410 5420 5430 5440 5450\n",
      " 5460 5470 5480 5490 5500 5510 5520 5530]\n"
     ]
    }
   ],
   "source": [
    "# create a list that holds index values times ten:\n",
    "new_idx = spells5e.index.values * 10\n",
    "print(new_idx)"
   ]
  },
  {
   "cell_type": "code",
   "execution_count": 71,
   "metadata": {},
   "outputs": [
    {
     "data": {
      "text/html": [
       "<div>\n",
       "<style scoped>\n",
       "    .dataframe tbody tr th:only-of-type {\n",
       "        vertical-align: middle;\n",
       "    }\n",
       "\n",
       "    .dataframe tbody tr th {\n",
       "        vertical-align: top;\n",
       "    }\n",
       "\n",
       "    .dataframe thead th {\n",
       "        text-align: right;\n",
       "    }\n",
       "</style>\n",
       "<table border=\"1\" class=\"dataframe\">\n",
       "  <thead>\n",
       "    <tr style=\"text-align: right;\">\n",
       "      <th></th>\n",
       "      <th>name</th>\n",
       "      <th>classes</th>\n",
       "      <th>level</th>\n",
       "      <th>school</th>\n",
       "      <th>cast_time</th>\n",
       "      <th>range</th>\n",
       "      <th>duration</th>\n",
       "      <th>verbal</th>\n",
       "      <th>somatic</th>\n",
       "      <th>material</th>\n",
       "      <th>material_cost</th>\n",
       "      <th>description</th>\n",
       "    </tr>\n",
       "  </thead>\n",
       "  <tbody>\n",
       "    <tr>\n",
       "      <th>0</th>\n",
       "      <td>Acid Splash</td>\n",
       "      <td>Artificer, Sorcerer, Wizard</td>\n",
       "      <td>0</td>\n",
       "      <td>Conjuration</td>\n",
       "      <td>1 Action</td>\n",
       "      <td>60 Feet</td>\n",
       "      <td>Instantaneous</td>\n",
       "      <td>1</td>\n",
       "      <td>1</td>\n",
       "      <td>0</td>\n",
       "      <td>NaN</td>\n",
       "      <td>You hurl a bubble of acid. Choose one creature...</td>\n",
       "    </tr>\n",
       "    <tr>\n",
       "      <th>10</th>\n",
       "      <td>Blade Ward</td>\n",
       "      <td>Bard, Sorcerer, Warlock, Wizard</td>\n",
       "      <td>0</td>\n",
       "      <td>Abjuration</td>\n",
       "      <td>1 Action</td>\n",
       "      <td>Self</td>\n",
       "      <td>1 round</td>\n",
       "      <td>1</td>\n",
       "      <td>1</td>\n",
       "      <td>0</td>\n",
       "      <td>NaN</td>\n",
       "      <td>You extend your hand and trace a sigil of ward...</td>\n",
       "    </tr>\n",
       "    <tr>\n",
       "      <th>20</th>\n",
       "      <td>Booming Blade</td>\n",
       "      <td>Artificer, Sorcerer, Warlock, Wizard</td>\n",
       "      <td>0</td>\n",
       "      <td>Evocation</td>\n",
       "      <td>1 Action</td>\n",
       "      <td>Self (5-foot radius)</td>\n",
       "      <td>1 round</td>\n",
       "      <td>0</td>\n",
       "      <td>1</td>\n",
       "      <td>1</td>\n",
       "      <td>a melee weapon worth at least 1 sp</td>\n",
       "      <td>You brandish the weapon used in the spell’s ca...</td>\n",
       "    </tr>\n",
       "    <tr>\n",
       "      <th>30</th>\n",
       "      <td>Chill Touch</td>\n",
       "      <td>Sorcerer, Warlock, Wizard</td>\n",
       "      <td>0</td>\n",
       "      <td>Necromancy</td>\n",
       "      <td>1 Action</td>\n",
       "      <td>120 Feet</td>\n",
       "      <td>1 round</td>\n",
       "      <td>1</td>\n",
       "      <td>1</td>\n",
       "      <td>0</td>\n",
       "      <td>NaN</td>\n",
       "      <td>You create a ghostly, skeletal hand in the spa...</td>\n",
       "    </tr>\n",
       "    <tr>\n",
       "      <th>40</th>\n",
       "      <td>Control Flames</td>\n",
       "      <td>Druid, Sorcerer, Wizard</td>\n",
       "      <td>0</td>\n",
       "      <td>Transmutation</td>\n",
       "      <td>1 Action</td>\n",
       "      <td>60 Feet</td>\n",
       "      <td>Instantaneous or 1 hour</td>\n",
       "      <td>0</td>\n",
       "      <td>1</td>\n",
       "      <td>0</td>\n",
       "      <td>NaN</td>\n",
       "      <td>You choose nonmagical flame that you can see w...</td>\n",
       "    </tr>\n",
       "  </tbody>\n",
       "</table>\n",
       "</div>"
      ],
      "text/plain": [
       "              name                               classes level         school  \\\n",
       "0      Acid Splash           Artificer, Sorcerer, Wizard     0    Conjuration   \n",
       "10      Blade Ward       Bard, Sorcerer, Warlock, Wizard     0     Abjuration   \n",
       "20   Booming Blade  Artificer, Sorcerer, Warlock, Wizard     0      Evocation   \n",
       "30     Chill Touch             Sorcerer, Warlock, Wizard     0     Necromancy   \n",
       "40  Control Flames               Druid, Sorcerer, Wizard     0  Transmutation   \n",
       "\n",
       "   cast_time                 range                 duration  verbal  somatic  \\\n",
       "0   1 Action               60 Feet            Instantaneous       1        1   \n",
       "10  1 Action                  Self                  1 round       1        1   \n",
       "20  1 Action  Self (5-foot radius)                  1 round       0        1   \n",
       "30  1 Action              120 Feet                  1 round       1        1   \n",
       "40  1 Action               60 Feet  Instantaneous or 1 hour       0        1   \n",
       "\n",
       "    material                       material_cost  \\\n",
       "0          0                                 NaN   \n",
       "10         0                                 NaN   \n",
       "20         1  a melee weapon worth at least 1 sp   \n",
       "30         0                                 NaN   \n",
       "40         0                                 NaN   \n",
       "\n",
       "                                          description  \n",
       "0   You hurl a bubble of acid. Choose one creature...  \n",
       "10  You extend your hand and trace a sigil of ward...  \n",
       "20  You brandish the weapon used in the spell’s ca...  \n",
       "30  You create a ghostly, skeletal hand in the spa...  \n",
       "40  You choose nonmagical flame that you can see w...  "
      ]
     },
     "execution_count": 71,
     "metadata": {},
     "output_type": "execute_result"
    }
   ],
   "source": [
    "# change the index of the DataFrame to this new values\n",
    "spells5e.index = new_idx\n",
    "spells5e.head()"
   ]
  },
  {
   "cell_type": "markdown",
   "metadata": {},
   "source": [
    "Now, the index has been adjusted. The new index corresponds to the old index $\\cdot 10$."
   ]
  },
  {
   "cell_type": "markdown",
   "metadata": {},
   "source": [
    "Now we can investigate the differences between loc and iloc. Both functions take two parameters:\n",
    "* the first parameter specifies the rows to retrieve\n",
    "* the second parameter specifies the columns to retrieve\n",
    "    \n",
    "Rows and columns can be\n",
    "* either label (loc) or position (iloc)\n",
    "* a list like collection of labels/positions\n",
    "* slices specifying labels/positions\n",
    "\n",
    "Things become clear when you give it a try:"
   ]
  },
  {
   "cell_type": "code",
   "execution_count": 72,
   "metadata": {},
   "outputs": [
    {
     "data": {
      "text/html": [
       "<div>\n",
       "<style scoped>\n",
       "    .dataframe tbody tr th:only-of-type {\n",
       "        vertical-align: middle;\n",
       "    }\n",
       "\n",
       "    .dataframe tbody tr th {\n",
       "        vertical-align: top;\n",
       "    }\n",
       "\n",
       "    .dataframe thead th {\n",
       "        text-align: right;\n",
       "    }\n",
       "</style>\n",
       "<table border=\"1\" class=\"dataframe\">\n",
       "  <thead>\n",
       "    <tr style=\"text-align: right;\">\n",
       "      <th></th>\n",
       "      <th>name</th>\n",
       "      <th>classes</th>\n",
       "      <th>level</th>\n",
       "      <th>school</th>\n",
       "      <th>cast_time</th>\n",
       "      <th>range</th>\n",
       "      <th>duration</th>\n",
       "      <th>verbal</th>\n",
       "      <th>somatic</th>\n",
       "      <th>material</th>\n",
       "      <th>material_cost</th>\n",
       "      <th>description</th>\n",
       "    </tr>\n",
       "  </thead>\n",
       "  <tbody>\n",
       "    <tr>\n",
       "      <th>0</th>\n",
       "      <td>Acid Splash</td>\n",
       "      <td>Artificer, Sorcerer, Wizard</td>\n",
       "      <td>0</td>\n",
       "      <td>Conjuration</td>\n",
       "      <td>1 Action</td>\n",
       "      <td>60 Feet</td>\n",
       "      <td>Instantaneous</td>\n",
       "      <td>1</td>\n",
       "      <td>1</td>\n",
       "      <td>0</td>\n",
       "      <td>NaN</td>\n",
       "      <td>You hurl a bubble of acid. Choose one creature...</td>\n",
       "    </tr>\n",
       "    <tr>\n",
       "      <th>10</th>\n",
       "      <td>Blade Ward</td>\n",
       "      <td>Bard, Sorcerer, Warlock, Wizard</td>\n",
       "      <td>0</td>\n",
       "      <td>Abjuration</td>\n",
       "      <td>1 Action</td>\n",
       "      <td>Self</td>\n",
       "      <td>1 round</td>\n",
       "      <td>1</td>\n",
       "      <td>1</td>\n",
       "      <td>0</td>\n",
       "      <td>NaN</td>\n",
       "      <td>You extend your hand and trace a sigil of ward...</td>\n",
       "    </tr>\n",
       "    <tr>\n",
       "      <th>20</th>\n",
       "      <td>Booming Blade</td>\n",
       "      <td>Artificer, Sorcerer, Warlock, Wizard</td>\n",
       "      <td>0</td>\n",
       "      <td>Evocation</td>\n",
       "      <td>1 Action</td>\n",
       "      <td>Self (5-foot radius)</td>\n",
       "      <td>1 round</td>\n",
       "      <td>0</td>\n",
       "      <td>1</td>\n",
       "      <td>1</td>\n",
       "      <td>a melee weapon worth at least 1 sp</td>\n",
       "      <td>You brandish the weapon used in the spell’s ca...</td>\n",
       "    </tr>\n",
       "    <tr>\n",
       "      <th>30</th>\n",
       "      <td>Chill Touch</td>\n",
       "      <td>Sorcerer, Warlock, Wizard</td>\n",
       "      <td>0</td>\n",
       "      <td>Necromancy</td>\n",
       "      <td>1 Action</td>\n",
       "      <td>120 Feet</td>\n",
       "      <td>1 round</td>\n",
       "      <td>1</td>\n",
       "      <td>1</td>\n",
       "      <td>0</td>\n",
       "      <td>NaN</td>\n",
       "      <td>You create a ghostly, skeletal hand in the spa...</td>\n",
       "    </tr>\n",
       "    <tr>\n",
       "      <th>40</th>\n",
       "      <td>Control Flames</td>\n",
       "      <td>Druid, Sorcerer, Wizard</td>\n",
       "      <td>0</td>\n",
       "      <td>Transmutation</td>\n",
       "      <td>1 Action</td>\n",
       "      <td>60 Feet</td>\n",
       "      <td>Instantaneous or 1 hour</td>\n",
       "      <td>0</td>\n",
       "      <td>1</td>\n",
       "      <td>0</td>\n",
       "      <td>NaN</td>\n",
       "      <td>You choose nonmagical flame that you can see w...</td>\n",
       "    </tr>\n",
       "  </tbody>\n",
       "</table>\n",
       "</div>"
      ],
      "text/plain": [
       "              name                               classes level         school  \\\n",
       "0      Acid Splash           Artificer, Sorcerer, Wizard     0    Conjuration   \n",
       "10      Blade Ward       Bard, Sorcerer, Warlock, Wizard     0     Abjuration   \n",
       "20   Booming Blade  Artificer, Sorcerer, Warlock, Wizard     0      Evocation   \n",
       "30     Chill Touch             Sorcerer, Warlock, Wizard     0     Necromancy   \n",
       "40  Control Flames               Druid, Sorcerer, Wizard     0  Transmutation   \n",
       "\n",
       "   cast_time                 range                 duration  verbal  somatic  \\\n",
       "0   1 Action               60 Feet            Instantaneous       1        1   \n",
       "10  1 Action                  Self                  1 round       1        1   \n",
       "20  1 Action  Self (5-foot radius)                  1 round       0        1   \n",
       "30  1 Action              120 Feet                  1 round       1        1   \n",
       "40  1 Action               60 Feet  Instantaneous or 1 hour       0        1   \n",
       "\n",
       "    material                       material_cost  \\\n",
       "0          0                                 NaN   \n",
       "10         0                                 NaN   \n",
       "20         1  a melee weapon worth at least 1 sp   \n",
       "30         0                                 NaN   \n",
       "40         0                                 NaN   \n",
       "\n",
       "                                          description  \n",
       "0   You hurl a bubble of acid. Choose one creature...  \n",
       "10  You extend your hand and trace a sigil of ward...  \n",
       "20  You brandish the weapon used in the spell’s ca...  \n",
       "30  You create a ghostly, skeletal hand in the spa...  \n",
       "40  You choose nonmagical flame that you can see w...  "
      ]
     },
     "execution_count": 72,
     "metadata": {},
     "output_type": "execute_result"
    }
   ],
   "source": [
    "spells5e.head()"
   ]
  },
  {
   "cell_type": "code",
   "execution_count": 73,
   "metadata": {},
   "outputs": [
    {
     "name": "stdout",
     "output_type": "stream",
     "text": [
      "Transmutation\n"
     ]
    }
   ],
   "source": [
    "# levle of row with label 40:\n",
    "print(spells5e.loc[40, 'school'])"
   ]
  },
  {
   "cell_type": "code",
   "execution_count": 74,
   "metadata": {},
   "outputs": [
    {
     "name": "stdout",
     "output_type": "stream",
     "text": [
      "Transmutation\n"
     ]
    }
   ],
   "source": [
    "# The same data retrieved via row/column position:\n",
    "print(spells5e.iloc[4, 3])"
   ]
  },
  {
   "cell_type": "code",
   "execution_count": 75,
   "metadata": {},
   "outputs": [
    {
     "data": {
      "text/plain": [
       "school               Transmutation\n",
       "name                Control Flames\n",
       "classes    Druid, Sorcerer, Wizard\n",
       "Name: 40, dtype: object"
      ]
     },
     "execution_count": 75,
     "metadata": {},
     "output_type": "execute_result"
    }
   ],
   "source": [
    "# Three dedicated columns of row 40:\n",
    "spells5e.loc[40, ['school', 'name', 'classes']]"
   ]
  },
  {
   "cell_type": "code",
   "execution_count": 76,
   "metadata": {},
   "outputs": [
    {
     "data": {
      "text/html": [
       "<div>\n",
       "<style scoped>\n",
       "    .dataframe tbody tr th:only-of-type {\n",
       "        vertical-align: middle;\n",
       "    }\n",
       "\n",
       "    .dataframe tbody tr th {\n",
       "        vertical-align: top;\n",
       "    }\n",
       "\n",
       "    .dataframe thead th {\n",
       "        text-align: right;\n",
       "    }\n",
       "</style>\n",
       "<table border=\"1\" class=\"dataframe\">\n",
       "  <thead>\n",
       "    <tr style=\"text-align: right;\">\n",
       "      <th></th>\n",
       "      <th>school</th>\n",
       "      <th>name</th>\n",
       "      <th>classes</th>\n",
       "    </tr>\n",
       "  </thead>\n",
       "  <tbody>\n",
       "    <tr>\n",
       "      <th>40</th>\n",
       "      <td>Transmutation</td>\n",
       "      <td>Control Flames</td>\n",
       "      <td>Druid, Sorcerer, Wizard</td>\n",
       "    </tr>\n",
       "  </tbody>\n",
       "</table>\n",
       "</div>"
      ],
      "text/plain": [
       "           school            name                  classes\n",
       "40  Transmutation  Control Flames  Druid, Sorcerer, Wizard"
      ]
     },
     "execution_count": 76,
     "metadata": {},
     "output_type": "execute_result"
    }
   ],
   "source": [
    "# Three dedicated columns of row 40:\n",
    "spells5e[['school', 'name', 'classes']].iloc[[4]]"
   ]
  },
  {
   "cell_type": "code",
   "execution_count": 77,
   "metadata": {},
   "outputs": [
    {
     "data": {
      "text/html": [
       "<div>\n",
       "<style scoped>\n",
       "    .dataframe tbody tr th:only-of-type {\n",
       "        vertical-align: middle;\n",
       "    }\n",
       "\n",
       "    .dataframe tbody tr th {\n",
       "        vertical-align: top;\n",
       "    }\n",
       "\n",
       "    .dataframe thead th {\n",
       "        text-align: right;\n",
       "    }\n",
       "</style>\n",
       "<table border=\"1\" class=\"dataframe\">\n",
       "  <thead>\n",
       "    <tr style=\"text-align: right;\">\n",
       "      <th></th>\n",
       "      <th>school</th>\n",
       "      <th>name</th>\n",
       "      <th>classes</th>\n",
       "    </tr>\n",
       "  </thead>\n",
       "  <tbody>\n",
       "    <tr>\n",
       "      <th>40</th>\n",
       "      <td>Transmutation</td>\n",
       "      <td>Control Flames</td>\n",
       "      <td>Druid, Sorcerer, Wizard</td>\n",
       "    </tr>\n",
       "  </tbody>\n",
       "</table>\n",
       "</div>"
      ],
      "text/plain": [
       "           school            name                  classes\n",
       "40  Transmutation  Control Flames  Druid, Sorcerer, Wizard"
      ]
     },
     "execution_count": 77,
     "metadata": {},
     "output_type": "execute_result"
    }
   ],
   "source": [
    "# Three dedicated columns of row 40:\n",
    "spells5e[['school', 'name', 'classes']].loc[[40]]"
   ]
  },
  {
   "cell_type": "code",
   "execution_count": null,
   "metadata": {},
   "outputs": [],
   "source": [
    "# The same using positions:\n",
    "print(spells5e.iloc[4, [3, 0, 1]] )"
   ]
  },
  {
   "cell_type": "code",
   "execution_count": null,
   "metadata": {},
   "outputs": [],
   "source": [
    "# 4 rows 2 column 2 alternative statements\n",
    "print(spells5e.loc[[40, 0, 120, 50], ['name', 'level'] ] )\n",
    "print(spells5e.iloc[[4, 0, 12, 5], [0,2] ] )"
   ]
  },
  {
   "cell_type": "code",
   "execution_count": null,
   "metadata": {},
   "outputs": [],
   "source": [
    "# and finally introducing slices for loc and iloc\n",
    "print(spells5e.loc[40:120, :'school'])"
   ]
  },
  {
   "cell_type": "code",
   "execution_count": null,
   "metadata": {},
   "outputs": [],
   "source": [
    "print(spells5e.iloc[4:13, :4]) #be aware that the last number is no longer included, e.g., if you want columns 0-3 you need to write :4 or 0:4"
   ]
  },
  {
   "cell_type": "code",
   "execution_count": null,
   "metadata": {},
   "outputs": [],
   "source": [
    "print(spells5e.loc[:90, 'name':'school'])"
   ]
  },
  {
   "cell_type": "code",
   "execution_count": null,
   "metadata": {},
   "outputs": [],
   "source": [
    "print(spells5e.iloc[:13, 2:5])"
   ]
  },
  {
   "cell_type": "markdown",
   "metadata": {},
   "source": [
    "**Syntax Warning:**\n",
    "\n",
    "Please note the subtle difference when writing a slice with labels compared to a slice with positions:\n",
    "\n",
    "*labels (loc)*: 40:120 -> means all rows from 40 to 120 including both border values\n",
    "\n",
    "*positions (iloc)*: 4:13 -> means all rows from 4 to 13 including 4 but excluding 13\n",
    "\n",
    "So positions exclude the upper limit value (like the slices we have seen at strings and collections), if you are dealing with positions. When dealing with labels, both limits are included. This is very error prone!\n",
    "\n",
    "**Performance Remark:**\n",
    "\n",
    "If you want to retrieve an enormous amount of singe values from a DataFrame, use the attributes “at”/”iat” instead of “loc”/”iloc”. Depending upon situation you can expect 6-10 times faster execution. The disadvantage is that these attributes/functions can only access single values.\n",
    "\n",
    "In the preceding examples, you have seen read only access to data in a DataFrame. Write access is very similar, instead of print() you use an = operator:"
   ]
  },
  {
   "cell_type": "code",
   "execution_count": null,
   "metadata": {},
   "outputs": [],
   "source": [
    "print(spells5e.at[20,\"name\"])\n",
    "print(spells5e.iat[2, 0])"
   ]
  },
  {
   "cell_type": "code",
   "execution_count": null,
   "metadata": {},
   "outputs": [],
   "source": [
    "# spell at index 720\n",
    "print(spells5e.loc[720])\n",
    "\n",
    "spells5e.loc[720, 'school'] = \"Necromancy\"\n",
    "# alternative: spells5e.iloc[72, 3]=\"Necromancy\"\n",
    "print(spells5e.loc[720])\n"
   ]
  },
  {
   "cell_type": "code",
   "execution_count": null,
   "metadata": {},
   "outputs": [],
   "source": [
    "# change the description of many spells at once!\n",
    "# -> simply supply the new values as a list\n",
    "spells5e.loc[[90, 460, 300]]"
   ]
  },
  {
   "cell_type": "code",
   "execution_count": null,
   "metadata": {},
   "outputs": [],
   "source": [
    "spells5e.loc[[90, 460, 300], 'description'] = ['the best cantrip', 'the worst cantrip', 'the cantrip nobody can pronounce']\n",
    "spells5e.loc[[90, 460, 300]]\n",
    "# figure out on your own: How would you do this with iloc?"
   ]
  },
  {
   "cell_type": "code",
   "execution_count": null,
   "metadata": {},
   "outputs": [],
   "source": [
    "spells5e.loc[[40, 0, 120, 50]]"
   ]
  },
  {
   "cell_type": "code",
   "execution_count": null,
   "metadata": {},
   "outputs": [],
   "source": [
    "spells5e[spells5e[\"name\"].isin([\"True Resurrection\", \"Revivify\", \"Greater Restoration\", \"Raise Dead\"])]"
   ]
  },
  {
   "cell_type": "code",
   "execution_count": null,
   "metadata": {},
   "outputs": [],
   "source": [
    "# inflation has hit magic! some spells cost more than they used to. \n",
    "# supply a list of new “row values”\n",
    "# row values are themselves lists\n",
    "spells5e.loc[[2820, 3920, 4070, 5510], ['material_cost', 'description'] ] = \\\n",
    "[[\"400 gp worth of diamonds\", 'inflation hits everyone'], [\"200 gp worth of diamond dust\", 'inflation hits everyone'], \\\n",
    " [\"700 gp worth of diamonds\", 'inflation hits everyone'], [\"50000 gp worth of diamonds\", 'inflation hits everyone']]\n",
    "spells5e.loc[[2820, 3920, 4070, 5510]]"
   ]
  },
  {
   "cell_type": "markdown",
   "metadata": {},
   "source": [
    "**Exercise**: \n",
    "\n",
    "- Use slice notation to extract the last 5 spells in the list. Choose the ones that don't have a material_cost, come up with a fun material_cost for the spell! (For example, a frog's hair, a hag's toenail or a vodoo doll of your worst enemy). Insert these material costs and change the indicator \"material\" to reflect this change!\n",
    "- A level \"0\" spell is called a \"cantrip\". Choose two level 0 spells and change the \"level\" variable to \"cantrip\".\n",
    "- It's mean that only Warlocks can use \"Eldritch Blast\". Change the \"classes\" variable for that spell to \"Warlock, Bard, Sorcerer\" (or any class of your choice)."
   ]
  },
  {
   "cell_type": "code",
   "execution_count": null,
   "metadata": {},
   "outputs": [],
   "source": [
    "# here comes your code!"
   ]
  },
  {
   "cell_type": "markdown",
   "metadata": {},
   "source": [
    "A lot of DataFrame operations extract single rows/columns for manipulation as Series, thus, before we look at them, let us introduce the Series data type of Pandas:"
   ]
  },
  {
   "cell_type": "markdown",
   "metadata": {},
   "source": [
    "## Series\n",
    "\n",
    "You can imagine a Series as as single column of a DataFrame. Thus it has a row index with label values, but there are no columns/column labels. Instead, for each row index there is a single associated value. \n",
    "\n",
    "### Series creation\n",
    "\n",
    "Lets look at an example:"
   ]
  },
  {
   "cell_type": "code",
   "execution_count": null,
   "metadata": {},
   "outputs": [],
   "source": [
    "artikel = ['Gurke', 'Tomate', 'Paprika', 'Salat'] \n",
    "s = pd.Series(artikel)\n",
    "print(s)"
   ]
  },
  {
   "cell_type": "markdown",
   "metadata": {},
   "source": [
    "It looks like a single column of a DataFrame, including an index, but without a column label. You can specify an index and a name using the constructor:"
   ]
  },
  {
   "cell_type": "code",
   "execution_count": null,
   "metadata": {},
   "outputs": [],
   "source": [
    "artikel = ['Gurke', 'Tomate', 'Paprika', 'Salat'] \n",
    "idx = [0, 10, 20, 30]\n",
    "nm = 'Artikel'\n",
    "s = pd.Series(artikel, index = idx, name = nm)\n",
    "print(s)"
   ]
  },
  {
   "cell_type": "markdown",
   "metadata": {},
   "source": [
    "Dictionaries can of course also be used to create a Series, the keys are used for providing the index labels:"
   ]
  },
  {
   "cell_type": "code",
   "execution_count": null,
   "metadata": {},
   "outputs": [],
   "source": [
    "artikel = {0: 'Gurke', 11: 'Tomate', 22: 'Paprika', 33: 'Salat'}\n",
    "nm = 'Artikel'\n",
    "s = pd.Series(artikel, name = nm)\n",
    "print(s)"
   ]
  },
  {
   "cell_type": "markdown",
   "metadata": {},
   "source": [
    "### Data Access\n",
    "You access data in a Series in exactly the same way, as you specify row positions to the loc/iloc properties of a DataFrame. That means you have the following three options:\n",
    "* index label\n",
    "* a list like collection of index labels\n",
    "* slices specifying positions\n",
    "\n",
    "**Please note:** Contrary to the other options, slices deal with positions instead of index labels!"
   ]
  },
  {
   "cell_type": "code",
   "execution_count": null,
   "metadata": {},
   "outputs": [],
   "source": [
    "# Get the Artikel at index 11:\n",
    "print( s[11] )"
   ]
  },
  {
   "cell_type": "code",
   "execution_count": null,
   "metadata": {},
   "outputs": [],
   "source": [
    "# Three particular Artikel:\n",
    "print(s[[22, 0, 33] ])"
   ]
  },
  {
   "cell_type": "code",
   "execution_count": null,
   "metadata": {},
   "outputs": [],
   "source": [
    "s"
   ]
  },
  {
   "cell_type": "code",
   "execution_count": null,
   "metadata": {},
   "outputs": [],
   "source": [
    "# and finally using slices:\n",
    "print(s.iloc[2:])\n",
    "print(s.loc[2:])"
   ]
  },
  {
   "cell_type": "code",
   "execution_count": null,
   "metadata": {},
   "outputs": [],
   "source": [
    "print(s[1:3])"
   ]
  },
  {
   "cell_type": "code",
   "execution_count": null,
   "metadata": {},
   "outputs": [],
   "source": [
    "print(s.iloc[-1:])"
   ]
  },
  {
   "cell_type": "markdown",
   "metadata": {},
   "source": [
    "By using the = operator, you get write access to the Series:"
   ]
  },
  {
   "cell_type": "code",
   "execution_count": null,
   "metadata": {},
   "outputs": [],
   "source": [
    "# Get the Artikel at index 11:\n",
    "s[11] = 'Koriander'\n",
    "s[[22, 0]] = ['Avocado', 'Zwiebel']\n",
    "s.iloc[-1:] = 'Tomate'\n",
    "s[44] = 'Limette' #set a completely new entry\n",
    "print(s)"
   ]
  },
  {
   "cell_type": "markdown",
   "metadata": {},
   "source": [
    "**Exercise**: \n",
    "* Make a new series with ingredients for your favourite recipe. \n",
    "* Name the series after the dish you want to create and add an index. \n",
    "* Read out the last two entries in your recipe and finally, add the additional ingredient 'cheese' to the recipe."
   ]
  },
  {
   "cell_type": "code",
   "execution_count": null,
   "metadata": {},
   "outputs": [],
   "source": [
    "# here goes your code!"
   ]
  },
  {
   "cell_type": "markdown",
   "metadata": {},
   "source": [
    "## DataFrame manipulation"
   ]
  },
  {
   "cell_type": "markdown",
   "metadata": {},
   "source": [
    "### Accessing DataFrame columns\n",
    "A Series represents a column in a DataFrame. Thus, if you want to read a whole row from a DataFrame, you have a powerful alternative to the loc/iloc properties: "
   ]
  },
  {
   "cell_type": "code",
   "execution_count": null,
   "metadata": {},
   "outputs": [],
   "source": [
    "spells5e = pd.read_csv('dnd_spells.csv')\n",
    "\n",
    "# extract a column as a Series\n",
    "spells = spells5e['name']\n",
    " \n",
    "print(spells)\n",
    "print(type(spells))"
   ]
  },
  {
   "cell_type": "markdown",
   "metadata": {},
   "source": [
    "This syntax is an analogous to the syntax of dictionaries. The column name acts as key, the whole column as data, the result is a Series. An alternative is to use the column name after the dot (.) operator, then you do not need to mark the name as a String, it is treated like a property name of the DataFrame:"
   ]
  },
  {
   "cell_type": "code",
   "execution_count": null,
   "metadata": {},
   "outputs": [],
   "source": [
    "# extract a column as a Series\n",
    "spells = spells5e.name\n",
    " \n",
    "print(spells)\n",
    "print(type(spells))"
   ]
  },
  {
   "cell_type": "markdown",
   "metadata": {},
   "source": [
    "Of course you can specify lists of columns instead of single columns. In that way you get a DataFrame with the selected columns:"
   ]
  },
  {
   "cell_type": "code",
   "execution_count": null,
   "metadata": {},
   "outputs": [],
   "source": [
    "# extract three columns from a DataFrame\n",
    "spells =spells5e[['name', 'classes', 'level']]\n",
    " \n",
    "print( spells )\n",
    "print( type(spells) )\n",
    "\n",
    "# be aware, the following will give an error, \n",
    "# since it is NOT a list of columns (missing parentheses)\n",
    "spells = spells5e['name', 'classes', 'level']"
   ]
  },
  {
   "cell_type": "markdown",
   "metadata": {},
   "source": [
    "### Insert/Delete rows and columns\n",
    "The methods insert() and delete() provide insert/delete columns functionality in a DataFrame. To insert a new row into a DataFrame, it is useful to model it by concatenating two DataFrames. "
   ]
  },
  {
   "cell_type": "code",
   "execution_count": null,
   "metadata": {},
   "outputs": [],
   "source": [
    "data = {'Preis' : [1.29, 2.99, 1.49, 1.79], \n",
    "        'Artikel'  : ['Gurke', 'Tomate', 'Paprika', 'Salat']}\n",
    "\n",
    "shoppinglist = DataFrame(data, \n",
    "               index = [10,20,30,40], \n",
    "               columns = ['Artikel', 'Preis'])\n",
    "\n",
    "print(shoppinglist)"
   ]
  },
  {
   "cell_type": "code",
   "execution_count": null,
   "metadata": {},
   "outputs": [],
   "source": [
    "# let us add a line for Kren at new index position 50\n",
    "koriander = DataFrame([['Koriander', 2.29]], columns = ['Artikel', 'Preis'], index = [50])\n",
    "print(pd.DataFrame(koriander))"
   ]
  },
  {
   "cell_type": "code",
   "execution_count": null,
   "metadata": {},
   "outputs": [],
   "source": [
    "# finally append:\n",
    "pd.concat([shoppinglist,koriander])"
   ]
  },
  {
   "cell_type": "markdown",
   "metadata": {},
   "source": [
    "Please note: The return function does not alter df, but returns a DataFrame that includes the new row. Therefore we do not write"
   ]
  },
  {
   "cell_type": "code",
   "execution_count": null,
   "metadata": {},
   "outputs": [],
   "source": [
    "shoppinglist"
   ]
  },
  {
   "cell_type": "code",
   "execution_count": null,
   "metadata": {},
   "outputs": [],
   "source": [
    "pd.concat([shoppinglist, koriander])\n",
    "print(shoppinglist)"
   ]
  },
  {
   "cell_type": "markdown",
   "metadata": {},
   "source": [
    "but write"
   ]
  },
  {
   "cell_type": "code",
   "execution_count": null,
   "metadata": {},
   "outputs": [],
   "source": [
    "shoppinglist =  pd.concat([shoppinglist, koriander])\n",
    "\n",
    "print(shoppinglist)"
   ]
  },
  {
   "cell_type": "markdown",
   "metadata": {},
   "source": [
    "That means we assign the appended DataFrame returned from append() to our variable df.\n",
    "To delete rows, you simply call the drop() method and supply a list of index values for method parameter “labels”. Again, drop does not directly alter the supplied DataFrame, but returns a DataFrame that is reduced by the specified rows:"
   ]
  },
  {
   "cell_type": "code",
   "execution_count": null,
   "metadata": {},
   "outputs": [],
   "source": [
    "# do not forget to save the result of drop in a variable\n",
    "# turns out we have some ingredients at home already\n",
    "\n",
    "shoppinglist_adjusted = shoppinglist.drop([20, 50])\n",
    "\n",
    "# df was not changed\n",
    "print(shoppinglist)"
   ]
  },
  {
   "cell_type": "code",
   "execution_count": null,
   "metadata": {},
   "outputs": [],
   "source": [
    "# the DataFrame returned by drop is reduced by two lines\n",
    "print(shoppinglist_adjusted)"
   ]
  },
  {
   "cell_type": "markdown",
   "metadata": {},
   "source": [
    "To insert a new column, you \n",
    "* provide a new column as a Series\n",
    "* then simply combine the syntax to access columns of DataFrames with an = operator\n",
    "\n",
    "Be aware, the index of the Series and of the DataFrame have to be compatible. Lets look at the code:"
   ]
  },
  {
   "cell_type": "code",
   "execution_count": null,
   "metadata": {},
   "outputs": [],
   "source": [
    "shoppinglist"
   ]
  },
  {
   "cell_type": "code",
   "execution_count": null,
   "metadata": {},
   "outputs": [],
   "source": [
    "# let us create a new column for Menge (Series creation)\n",
    "data = [2, 3, 3, 1, 1]\n",
    "idx = shoppinglist.index\n",
    "menge = pd.Series(data, index = idx)\n",
    "print( menge )"
   ]
  },
  {
   "cell_type": "code",
   "execution_count": null,
   "metadata": {},
   "outputs": [],
   "source": [
    "# Append the new column to the DataFrame (column access plus =)\n",
    "shoppinglist['Menge'] = menge\n",
    "print(shoppinglist)"
   ]
  },
  {
   "cell_type": "code",
   "execution_count": null,
   "metadata": {},
   "outputs": [],
   "source": [
    "# Try it: What happens if you create the Series “Menge” \n",
    "# with the standard index [0,1,2,3] and then add it to df?\n",
    "\n",
    "\n"
   ]
  },
  {
   "cell_type": "markdown",
   "metadata": {},
   "source": [
    "If you want to add a column with a single fixed value, it is even more simple. Just use column access syntax and add the value with operator ="
   ]
  },
  {
   "cell_type": "code",
   "execution_count": null,
   "metadata": {},
   "outputs": [],
   "source": [
    "shoppinglist['lieferbar'] = True\n",
    "print(shoppinglist)"
   ]
  },
  {
   "cell_type": "markdown",
   "metadata": {},
   "source": [
    "To delete a column, you use the del operator:\n",
    "You can also use the .drop() method on columns, by specifying parameter “axis” as 1:"
   ]
  },
  {
   "cell_type": "code",
   "execution_count": null,
   "metadata": {},
   "outputs": [],
   "source": [
    "# delete column lieferbar\n",
    "del shoppinglist['lieferbar']\n",
    "print(shoppinglist)\n",
    "\n",
    "# please check that the following does not delete a column:\n",
    "shoppinglist['Menge']=None\n",
    "print(shoppinglist)\n",
    "\n",
    "shoppinglist['Menge']=np.nan\n",
    "print(shoppinglist)"
   ]
  },
  {
   "cell_type": "code",
   "execution_count": null,
   "metadata": {},
   "outputs": [],
   "source": [
    "shoppinglist = shoppinglist.drop([\"Menge\"], axis=1) #but this does!\n",
    "shoppinglist"
   ]
  },
  {
   "cell_type": "markdown",
   "metadata": {},
   "source": [
    "Finally, you can combine arithmetic operations and insert syntax. Let us assume that you want Ust, and “Preis mit Ust” additionally to your standard columns:"
   ]
  },
  {
   "cell_type": "code",
   "execution_count": null,
   "metadata": {},
   "outputs": [],
   "source": [
    "# Let us create an Ust column (Ust is 20% of Preis):\n",
    "shoppinglist['Ust'] = 0.2*shoppinglist['Preis']\n",
    "print(shoppinglist)"
   ]
  },
  {
   "cell_type": "code",
   "execution_count": null,
   "metadata": {},
   "outputs": [],
   "source": [
    "# Now add a column for Brutto Preis (Preis + Ust)\n",
    "shoppinglist['Brutto'] = shoppinglist['Ust'] + shoppinglist['Preis']\n",
    "print(shoppinglist)"
   ]
  },
  {
   "cell_type": "markdown",
   "metadata": {},
   "source": [
    "### Sorting and Filtering of DataFrames\n",
    "Sorting DataFrames is straightforward, you use the method sort_values() and provide sort columns as well as specification whether to sort in ascending or descending order. Again, sort_values() does not sort the calling DataFrame, but returns a sorted DataFrame. Do not forget to save the returned DataFrame in a variable."
   ]
  },
  {
   "cell_type": "code",
   "execution_count": null,
   "metadata": {},
   "outputs": [],
   "source": [
    "spells5e.head()"
   ]
  },
  {
   "cell_type": "code",
   "execution_count": null,
   "metadata": {},
   "outputs": [],
   "source": [
    "# sort by school\n",
    "spells5e = spells5e.sort_values(by = 'school', ascending=True)\n",
    "spells5e.head()"
   ]
  },
  {
   "cell_type": "code",
   "execution_count": null,
   "metadata": {},
   "outputs": [],
   "source": [
    "# sort by school (descending), if equal by level (ascending)\n",
    "spells5e = spells5e.sort_values(by = ['school', 'level'], ascending=[False, True])\n",
    "spells5e.head()"
   ]
  },
  {
   "cell_type": "code",
   "execution_count": null,
   "metadata": {},
   "outputs": [],
   "source": [
    "#the dataframe was initially sorted by level and then by name. sort it back!\n",
    "\n"
   ]
  },
  {
   "cell_type": "markdown",
   "metadata": {},
   "source": [
    "Filtering makes heavily use of the Series style syntax:"
   ]
  },
  {
   "cell_type": "code",
   "execution_count": null,
   "metadata": {},
   "outputs": [],
   "source": [
    "# Have a look at all Spells with the highest level == 9\n",
    "spells5e[spells5e['level']==9]"
   ]
  },
  {
   "cell_type": "markdown",
   "metadata": {},
   "source": [
    "# So what happened here? Let’s analyse this step by step:"
   ]
  },
  {
   "cell_type": "code",
   "execution_count": null,
   "metadata": {},
   "outputs": [],
   "source": [
    "spells5e['level']"
   ]
  },
  {
   "cell_type": "markdown",
   "metadata": {},
   "source": [
    "This just produces just the level column as Series (i.e. index label and level value)! Applying a comparison operator to a Series result in a new Series containing only boolean values (compare this to the application of an arithmetic operator to a Series, which you have already seen)."
   ]
  },
  {
   "cell_type": "code",
   "execution_count": null,
   "metadata": {},
   "outputs": [],
   "source": [
    "spells5e['level']==9"
   ]
  },
  {
   "cell_type": "markdown",
   "metadata": {},
   "source": [
    "Finally, filtering the rows of a DataFrame, simply means providing a Series of boolean values for a DataFrame. The rows of the DataFrame are looked up in the Series by row label. If the value in the Series says True the row is kept, if it says False the row is discarded."
   ]
  },
  {
   "cell_type": "code",
   "execution_count": null,
   "metadata": {},
   "outputs": [],
   "source": [
    "s = spells5e['level']==9\n",
    "\n",
    "# Be aware, s is a Series of boolean values:\n",
    "print(s)"
   ]
  },
  {
   "cell_type": "code",
   "execution_count": null,
   "metadata": {},
   "outputs": [],
   "source": [
    "# Now apply it to the DataFrame, the syntax is simply []\n",
    "lvl9spells = spells5e[s]\n",
    "lvl9spells"
   ]
  },
  {
   "cell_type": "markdown",
   "metadata": {},
   "source": [
    "Let’s make use of the fact, that filtering ist just applying a boolean Series to a DataFrame. We want to discard all rows of df, except for row 11 and 17. That’s easy. Create a Series with True values at that label positions."
   ]
  },
  {
   "cell_type": "code",
   "execution_count": null,
   "metadata": {},
   "outputs": [],
   "source": [
    "# the Series has to have the same index labels than df\n",
    "# initialize all values of the Series as False\n",
    "idx = spells5e.index\n",
    "s = pd.Series(False, index=idx)\n",
    "print(s)"
   ]
  },
  {
   "cell_type": "code",
   "execution_count": null,
   "metadata": {},
   "outputs": [],
   "source": [
    "# set the values for elements at positions 11 and 17 to true \n",
    "s[11] = True\n",
    "s[17] = True\n",
    "\n",
    "# apply it on to df\n",
    "spells5e[s]"
   ]
  },
  {
   "cell_type": "code",
   "execution_count": null,
   "metadata": {},
   "outputs": [],
   "source": [
    "# again, this has not overwritten the dataframe!\n",
    "\n",
    "spells5e.head()"
   ]
  },
  {
   "cell_type": "markdown",
   "metadata": {},
   "source": [
    "Nevertheless, most of the time you will not explicitly create boolean Series for filtering, but implicitly use them by using boolean statements as you have seen before. Finally, how do we filter on multiple conditions at once? Let’s say we want to spells that have a casting time of '1 Bonus Action' and are of a level higher than 8. The important thing to know is, that you do not combine boolean Series with logic operators (AND, OR, ...) but with the binary logical operators (&, |, ...)."
   ]
  },
  {
   "cell_type": "code",
   "execution_count": null,
   "metadata": {},
   "outputs": [],
   "source": [
    "spells5e[(spells5e['cast_time']=='1 Bonus Action') & (spells5e['level']>8)]"
   ]
  },
  {
   "cell_type": "markdown",
   "metadata": {},
   "source": [
    "**Exercise**: \n",
    "* How many spells with a casting time of \"1 Reaction\" are there?\n",
    "* Extract all spells with a level of \"0\". Try to think of a way to change \"level\" for ONLY these spells to \"cantrip\" instead of \"0\". How could that work?\n",
    "* How many spells are available to a Wizard? How many to a Warlock? (Hint: research the Series.str.contains() function and apply it accordingly!)\n",
    "* Do some research on the functions Series.values and Series.value_counts. Try to apply them to the \"classes\" and \"level\" columns in the dataset."
   ]
  },
  {
   "cell_type": "code",
   "execution_count": null,
   "metadata": {},
   "outputs": [],
   "source": [
    "# your code goes here"
   ]
  },
  {
   "cell_type": "markdown",
   "metadata": {},
   "source": [
    "## Merging gives us database like join functionality"
   ]
  },
  {
   "cell_type": "code",
   "execution_count": null,
   "metadata": {},
   "outputs": [],
   "source": [
    "spells5e_subset = spells5e[['name', 'duration']].copy() # remove the copy and see what happens!!!"
   ]
  },
  {
   "cell_type": "code",
   "execution_count": null,
   "metadata": {},
   "outputs": [],
   "source": [
    "spells5e_subset['module'] = 'base module'"
   ]
  },
  {
   "cell_type": "code",
   "execution_count": null,
   "metadata": {},
   "outputs": [],
   "source": [
    "spells5e"
   ]
  },
  {
   "cell_type": "code",
   "execution_count": null,
   "metadata": {},
   "outputs": [],
   "source": [
    "spells5e_subset"
   ]
  },
  {
   "cell_type": "code",
   "execution_count": null,
   "metadata": {},
   "outputs": [],
   "source": [
    "spells5e.merge(spells5e_subset,  how='inner', on=['name'])"
   ]
  },
  {
   "cell_type": "markdown",
   "metadata": {},
   "source": [
    "## Grouping"
   ]
  },
  {
   "cell_type": "markdown",
   "metadata": {},
   "source": [
    "Grouping allows to condense information!"
   ]
  },
  {
   "cell_type": "code",
   "execution_count": null,
   "metadata": {},
   "outputs": [],
   "source": [
    "spells5e.groupby([\"school\"]) #does nothing yet"
   ]
  },
  {
   "cell_type": "code",
   "execution_count": null,
   "metadata": {},
   "outputs": [],
   "source": [
    "spells5e.groupby([\"school\"])[\"level\"].mean() # average level for each school of magic"
   ]
  },
  {
   "cell_type": "code",
   "execution_count": null,
   "metadata": {},
   "outputs": [],
   "source": [
    "spells5e.groupby([\"school\", \"cast_time\"])[\"level\"].mean()"
   ]
  },
  {
   "cell_type": "code",
   "execution_count": null,
   "metadata": {},
   "outputs": [],
   "source": [
    "spells5e.groupby([\"school\", \"cast_time\"])[\"level\"].agg(pd.Series.mode) # you can also use the agg function to condense the information. this function takes another function as input"
   ]
  },
  {
   "cell_type": "code",
   "execution_count": null,
   "metadata": {},
   "outputs": [],
   "source": [
    "spells5e.groupby([\"school\", \"cast_time\"]).apply(lambda x: (x[\"verbal\"] + x[\"somatic\"] + x[\"material\"]).mean())"
   ]
  }
 ],
 "metadata": {
  "kernelspec": {
   "display_name": "Python 3 (ipykernel)",
   "language": "python",
   "name": "python3"
  },
  "language_info": {
   "codemirror_mode": {
    "name": "ipython",
    "version": 3
   },
   "file_extension": ".py",
   "mimetype": "text/x-python",
   "name": "python",
   "nbconvert_exporter": "python",
   "pygments_lexer": "ipython3",
   "version": "3.11.5"
  }
 },
 "nbformat": 4,
 "nbformat_minor": 4
}
