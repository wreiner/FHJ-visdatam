{
 "cells": [
  {
   "cell_type": "markdown",
   "id": "41464a45-ba23-4ce9-b1ff-751735c64c72",
   "metadata": {},
   "source": [
    "# Top 100 Canadian beers\n",
    "\n",
    "- Vrbic, Zanini, Reiner\n"
   ]
  },
  {
   "cell_type": "code",
   "execution_count": 1,
   "id": "901988b0-eec3-413e-81d9-6e68682d3d92",
   "metadata": {},
   "outputs": [
    {
     "data": {
      "text/html": [
       "<div>\n",
       "<style scoped>\n",
       "    .dataframe tbody tr th:only-of-type {\n",
       "        vertical-align: middle;\n",
       "    }\n",
       "\n",
       "    .dataframe tbody tr th {\n",
       "        vertical-align: top;\n",
       "    }\n",
       "\n",
       "    .dataframe thead th {\n",
       "        text-align: right;\n",
       "    }\n",
       "</style>\n",
       "<table border=\"1\" class=\"dataframe\">\n",
       "  <thead>\n",
       "    <tr style=\"text-align: right;\">\n",
       "      <th></th>\n",
       "      <th>Unnamed: 0</th>\n",
       "      <th>rank</th>\n",
       "      <th>name</th>\n",
       "      <th>brewery</th>\n",
       "      <th>style</th>\n",
       "      <th>abv</th>\n",
       "      <th>score</th>\n",
       "      <th>ratings</th>\n",
       "    </tr>\n",
       "  </thead>\n",
       "  <tbody>\n",
       "    <tr>\n",
       "      <th>0</th>\n",
       "      <td>0</td>\n",
       "      <td>1</td>\n",
       "      <td>Péché Mortel</td>\n",
       "      <td>Brasserie Dieu du Ciel!</td>\n",
       "      <td>American Double / Imperial Stout</td>\n",
       "      <td>9.5</td>\n",
       "      <td>4.39</td>\n",
       "      <td>5087</td>\n",
       "    </tr>\n",
       "    <tr>\n",
       "      <th>1</th>\n",
       "      <td>1</td>\n",
       "      <td>2</td>\n",
       "      <td>Péché Mortel En Fût De Bourbon Américain</td>\n",
       "      <td>Brasserie Dieu du Ciel!</td>\n",
       "      <td>American Double / Imperial Stout</td>\n",
       "      <td>9.5</td>\n",
       "      <td>4.45</td>\n",
       "      <td>488</td>\n",
       "    </tr>\n",
       "    <tr>\n",
       "      <th>2</th>\n",
       "      <td>2</td>\n",
       "      <td>3</td>\n",
       "      <td>La Fin Du Monde</td>\n",
       "      <td>Unibroue</td>\n",
       "      <td>Tripel</td>\n",
       "      <td>9.0</td>\n",
       "      <td>4.31</td>\n",
       "      <td>10021</td>\n",
       "    </tr>\n",
       "    <tr>\n",
       "      <th>3</th>\n",
       "      <td>3</td>\n",
       "      <td>4</td>\n",
       "      <td>Unibroue 17 Grande Réserve</td>\n",
       "      <td>Unibroue</td>\n",
       "      <td>Belgian Strong Dark Ale</td>\n",
       "      <td>10.0</td>\n",
       "      <td>4.24</td>\n",
       "      <td>1140</td>\n",
       "    </tr>\n",
       "    <tr>\n",
       "      <th>4</th>\n",
       "      <td>4</td>\n",
       "      <td>5</td>\n",
       "      <td>Fat Tug IPA</td>\n",
       "      <td>Driftwood Brewery</td>\n",
       "      <td>American IPA</td>\n",
       "      <td>7.0</td>\n",
       "      <td>4.25</td>\n",
       "      <td>601</td>\n",
       "    </tr>\n",
       "  </tbody>\n",
       "</table>\n",
       "</div>"
      ],
      "text/plain": [
       "   Unnamed: 0  rank                                      name  \\\n",
       "0           0     1                              Péché Mortel   \n",
       "1           1     2  Péché Mortel En Fût De Bourbon Américain   \n",
       "2           2     3                           La Fin Du Monde   \n",
       "3           3     4                Unibroue 17 Grande Réserve   \n",
       "4           4     5                               Fat Tug IPA   \n",
       "\n",
       "                   brewery                             style   abv  score  \\\n",
       "0  Brasserie Dieu du Ciel!  American Double / Imperial Stout   9.5   4.39   \n",
       "1  Brasserie Dieu du Ciel!  American Double / Imperial Stout   9.5   4.45   \n",
       "2                 Unibroue                            Tripel   9.0   4.31   \n",
       "3                 Unibroue           Belgian Strong Dark Ale  10.0   4.24   \n",
       "4        Driftwood Brewery                      American IPA   7.0   4.25   \n",
       "\n",
       "   ratings  \n",
       "0     5087  \n",
       "1      488  \n",
       "2    10021  \n",
       "3     1140  \n",
       "4      601  "
      ]
     },
     "execution_count": 1,
     "metadata": {},
     "output_type": "execute_result"
    }
   ],
   "source": [
    "## Initialize dataset\n",
    "import pandas as pd \n",
    "import matplotlib.pyplot as plt\n",
    "import seaborn as sns \n",
    "from scipy.stats import pearsonr\n",
    "\n",
    "beers = pd.read_csv('canadian_beers.csv')\n",
    "\n",
    "beers.head()"
   ]
  },
  {
   "cell_type": "markdown",
   "id": "0b7f06c7-0e28-4eff-bb05-265bb5707a3d",
   "metadata": {},
   "source": [
    "## Aus welchen Beobachtungen setzen sich die Daten zusammen? Beschreiben Sie diese kurz und überlegen Sie sich, welches Skalenniveau die einzelnen Beobachtungen haben. [2]\n",
    "\n",
    "### Dieses dataset besteht aus einer Liste der Top 100 kanadischen Biere:\n",
    "\n",
    "- Rank: rank, from 1 to 100, as rated by BeerAdvocate.com users (Integer 0 -100)\n",
    "- Name: name of the beer (String)\n",
    "- Brewery: the brewery responsible for this delicious creation (String)\n",
    "- Style: the style of the beer (String)\n",
    "- ABV: Alcohol by Volume (Float, %, 0% - 15%)\n",
    "- Score: Overall score determined by BeerAdvocate.com users (Integer 1 - 5)\n",
    "- Ratings: Number of ratings (Integer 0 - 11000)\n"
   ]
  },
  {
   "cell_type": "code",
   "execution_count": 2,
   "id": "6043bf09-8482-4075-b62c-e48c9f3d400b",
   "metadata": {},
   "outputs": [
    {
     "name": "stdout",
     "output_type": "stream",
     "text": [
      "<class 'pandas.core.frame.DataFrame'>\n",
      "RangeIndex: 100 entries, 0 to 99\n",
      "Data columns (total 8 columns):\n",
      " #   Column      Non-Null Count  Dtype  \n",
      "---  ------      --------------  -----  \n",
      " 0   Unnamed: 0  100 non-null    int64  \n",
      " 1   rank        100 non-null    int64  \n",
      " 2   name        100 non-null    object \n",
      " 3   brewery     100 non-null    object \n",
      " 4   style       100 non-null    object \n",
      " 5   abv         100 non-null    float64\n",
      " 6   score       100 non-null    float64\n",
      " 7   ratings     100 non-null    int64  \n",
      "dtypes: float64(2), int64(3), object(3)\n",
      "memory usage: 6.4+ KB\n"
     ]
    }
   ],
   "source": [
    "beers.info()"
   ]
  },
  {
   "cell_type": "code",
   "execution_count": 3,
   "id": "98ceb6d6-53d3-4f7f-a823-c1a115f1ac5d",
   "metadata": {},
   "outputs": [
    {
     "name": "stdout",
     "output_type": "stream",
     "text": [
      " rank: 100\n",
      " abv: 12.2\n",
      " score: 4.48\n",
      " ratings: 10021\n"
     ]
    }
   ],
   "source": [
    "rmax = beers['rank'].max()\n",
    "abvmax = beers['abv'].max()\n",
    "smax = beers['score'].max()\n",
    "ramax = beers['ratings'].max()\n",
    "print(f\" rank: {rmax}\\n abv: {abvmax}\\n score: {smax}\\n ratings: {ramax}\")"
   ]
  },
  {
   "cell_type": "markdown",
   "id": "2ed51b08-a8be-4d7b-b9c9-3a2d659656dc",
   "metadata": {},
   "source": [
    "## Wie setzen sich die einzelnen Beobachtungen zusammen? Verwenden Sie Methoden für univariate Datensätze sinnvoll. [3]\n",
    "\n",
    "- TODO"
   ]
  },
  {
   "cell_type": "markdown",
   "id": "4952fb37-9642-4cec-8f38-7c4a9f155ae3",
   "metadata": {},
   "source": [
    "## Ermitteln Sie Kennzahlen für die einzelnen Beobachtungen, die Ihnen sinnvoll erscheinen. (Lokation, Modus, Varianzen, Quantile…) [2]\n",
    "\n",
    "- TODO"
   ]
  },
  {
   "cell_type": "code",
   "execution_count": 4,
   "id": "55dea4b9-2f34-4bf9-a4d9-10ca59e69213",
   "metadata": {},
   "outputs": [
    {
     "name": "stdout",
     "output_type": "stream",
     "text": [
      "Brauereien:\n",
      " Index(['Brasserie Dieu du Ciel!', 'Bellwoods Brewery', 'Driftwood Brewery'], dtype='object', name='brewery') \n",
      "\n",
      "Arten:\n",
      " Index(['American IPA', 'American Double / Imperial IPA',\n",
      "       'Russian Imperial Stout'],\n",
      "      dtype='object', name='style')\n"
     ]
    }
   ],
   "source": [
    "## Ermitteln Sie die 3 häufigsten Brauereien und Bier Arten, die in diesem Datensatz vorkommen.\n",
    "\n",
    "top3breweries = beers.groupby(['brewery']).size().sort_values(ascending=False).head(3).index\n",
    "top3styles = beers.groupby(['style']).size().sort_values(ascending=False).head(3).index\n",
    "\n",
    "print(f\"Brauereien:\\n\", top3breweries, \"\\n\\nArten:\\n\", top3styles)\n"
   ]
  },
  {
   "cell_type": "code",
   "execution_count": 5,
   "id": "48972ff6-9660-470b-a2ca-611fca1ebaa8",
   "metadata": {},
   "outputs": [
    {
     "data": {
      "text/html": [
       "<div>\n",
       "<style scoped>\n",
       "    .dataframe tbody tr th:only-of-type {\n",
       "        vertical-align: middle;\n",
       "    }\n",
       "\n",
       "    .dataframe tbody tr th {\n",
       "        vertical-align: top;\n",
       "    }\n",
       "\n",
       "    .dataframe thead tr th {\n",
       "        text-align: left;\n",
       "    }\n",
       "\n",
       "    .dataframe thead tr:last-of-type th {\n",
       "        text-align: right;\n",
       "    }\n",
       "</style>\n",
       "<table border=\"1\" class=\"dataframe\">\n",
       "  <thead>\n",
       "    <tr>\n",
       "      <th></th>\n",
       "      <th colspan=\"8\" halign=\"left\">rank</th>\n",
       "      <th colspan=\"8\" halign=\"left\">score</th>\n",
       "    </tr>\n",
       "    <tr>\n",
       "      <th></th>\n",
       "      <th>count</th>\n",
       "      <th>mean</th>\n",
       "      <th>std</th>\n",
       "      <th>min</th>\n",
       "      <th>25%</th>\n",
       "      <th>50%</th>\n",
       "      <th>75%</th>\n",
       "      <th>max</th>\n",
       "      <th>count</th>\n",
       "      <th>mean</th>\n",
       "      <th>std</th>\n",
       "      <th>min</th>\n",
       "      <th>25%</th>\n",
       "      <th>50%</th>\n",
       "      <th>75%</th>\n",
       "      <th>max</th>\n",
       "    </tr>\n",
       "    <tr>\n",
       "      <th>brewery</th>\n",
       "      <th></th>\n",
       "      <th></th>\n",
       "      <th></th>\n",
       "      <th></th>\n",
       "      <th></th>\n",
       "      <th></th>\n",
       "      <th></th>\n",
       "      <th></th>\n",
       "      <th></th>\n",
       "      <th></th>\n",
       "      <th></th>\n",
       "      <th></th>\n",
       "      <th></th>\n",
       "      <th></th>\n",
       "      <th></th>\n",
       "      <th></th>\n",
       "    </tr>\n",
       "  </thead>\n",
       "  <tbody>\n",
       "    <tr>\n",
       "      <th>Bellwoods Brewery</th>\n",
       "      <td>10.0</td>\n",
       "      <td>49.4000</td>\n",
       "      <td>17.011107</td>\n",
       "      <td>17.0</td>\n",
       "      <td>37.75</td>\n",
       "      <td>51.5</td>\n",
       "      <td>60.25</td>\n",
       "      <td>72.0</td>\n",
       "      <td>10.0</td>\n",
       "      <td>4.196000</td>\n",
       "      <td>0.077488</td>\n",
       "      <td>4.10</td>\n",
       "      <td>4.1400</td>\n",
       "      <td>4.200</td>\n",
       "      <td>4.2250</td>\n",
       "      <td>4.34</td>\n",
       "    </tr>\n",
       "    <tr>\n",
       "      <th>Brasserie Dieu du Ciel!</th>\n",
       "      <td>16.0</td>\n",
       "      <td>48.1875</td>\n",
       "      <td>35.427332</td>\n",
       "      <td>1.0</td>\n",
       "      <td>11.75</td>\n",
       "      <td>49.5</td>\n",
       "      <td>76.00</td>\n",
       "      <td>100.0</td>\n",
       "      <td>16.0</td>\n",
       "      <td>4.140625</td>\n",
       "      <td>0.157076</td>\n",
       "      <td>3.91</td>\n",
       "      <td>4.0275</td>\n",
       "      <td>4.115</td>\n",
       "      <td>4.2450</td>\n",
       "      <td>4.45</td>\n",
       "    </tr>\n",
       "    <tr>\n",
       "      <th>Driftwood Brewery</th>\n",
       "      <td>10.0</td>\n",
       "      <td>46.6000</td>\n",
       "      <td>30.015552</td>\n",
       "      <td>5.0</td>\n",
       "      <td>26.00</td>\n",
       "      <td>37.5</td>\n",
       "      <td>73.25</td>\n",
       "      <td>89.0</td>\n",
       "      <td>10.0</td>\n",
       "      <td>4.188000</td>\n",
       "      <td>0.116123</td>\n",
       "      <td>4.01</td>\n",
       "      <td>4.0975</td>\n",
       "      <td>4.200</td>\n",
       "      <td>4.2575</td>\n",
       "      <td>4.36</td>\n",
       "    </tr>\n",
       "  </tbody>\n",
       "</table>\n",
       "</div>"
      ],
      "text/plain": [
       "                         rank                                                \\\n",
       "                        count     mean        std   min    25%   50%    75%   \n",
       "brewery                                                                       \n",
       "Bellwoods Brewery        10.0  49.4000  17.011107  17.0  37.75  51.5  60.25   \n",
       "Brasserie Dieu du Ciel!  16.0  48.1875  35.427332   1.0  11.75  49.5  76.00   \n",
       "Driftwood Brewery        10.0  46.6000  30.015552   5.0  26.00  37.5  73.25   \n",
       "\n",
       "                               score                                           \\\n",
       "                           max count      mean       std   min     25%    50%   \n",
       "brewery                                                                         \n",
       "Bellwoods Brewery         72.0  10.0  4.196000  0.077488  4.10  4.1400  4.200   \n",
       "Brasserie Dieu du Ciel!  100.0  16.0  4.140625  0.157076  3.91  4.0275  4.115   \n",
       "Driftwood Brewery         89.0  10.0  4.188000  0.116123  4.01  4.0975  4.200   \n",
       "\n",
       "                                       \n",
       "                            75%   max  \n",
       "brewery                                \n",
       "Bellwoods Brewery        4.2250  4.34  \n",
       "Brasserie Dieu du Ciel!  4.2450  4.45  \n",
       "Driftwood Brewery        4.2575  4.36  "
      ]
     },
     "execution_count": 5,
     "metadata": {},
     "output_type": "execute_result"
    }
   ],
   "source": [
    "### Wie verteilen sich Rang und Score auf diese Brauereien und Arten von Bier?\n",
    "\n",
    "rows_breweries = beers.loc[beers['brewery'].isin(top3breweries)]\n",
    "rows_breweries.groupby('brewery')[['rank', 'score']].describe()\n",
    "\n",
    "# Bellwoods Brewery"
   ]
  },
  {
   "cell_type": "code",
   "execution_count": 6,
   "id": "3b382abf-146e-47a5-bded-89e1de4699bc",
   "metadata": {},
   "outputs": [
    {
     "name": "stderr",
     "output_type": "stream",
     "text": [
      "/home/wreiner/tmp/_sem3-swd22/visdatam/.venv/jupytervis/lib/python3.11/site-packages/seaborn/_oldcore.py:1498: FutureWarning: is_categorical_dtype is deprecated and will be removed in a future version. Use isinstance(dtype, CategoricalDtype) instead\n",
      "  if pd.api.types.is_categorical_dtype(vector):\n",
      "/home/wreiner/tmp/_sem3-swd22/visdatam/.venv/jupytervis/lib/python3.11/site-packages/seaborn/_oldcore.py:1498: FutureWarning: is_categorical_dtype is deprecated and will be removed in a future version. Use isinstance(dtype, CategoricalDtype) instead\n",
      "  if pd.api.types.is_categorical_dtype(vector):\n",
      "/home/wreiner/tmp/_sem3-swd22/visdatam/.venv/jupytervis/lib/python3.11/site-packages/seaborn/_oldcore.py:1119: FutureWarning: use_inf_as_na option is deprecated and will be removed in a future version. Convert inf values to NaN before operating instead.\n",
      "  with pd.option_context('mode.use_inf_as_na', True):\n",
      "/home/wreiner/tmp/_sem3-swd22/visdatam/.venv/jupytervis/lib/python3.11/site-packages/seaborn/_oldcore.py:1498: FutureWarning: is_categorical_dtype is deprecated and will be removed in a future version. Use isinstance(dtype, CategoricalDtype) instead\n",
      "  if pd.api.types.is_categorical_dtype(vector):\n",
      "/home/wreiner/tmp/_sem3-swd22/visdatam/.venv/jupytervis/lib/python3.11/site-packages/seaborn/_oldcore.py:1119: FutureWarning: use_inf_as_na option is deprecated and will be removed in a future version. Convert inf values to NaN before operating instead.\n",
      "  with pd.option_context('mode.use_inf_as_na', True):\n",
      "/home/wreiner/tmp/_sem3-swd22/visdatam/.venv/jupytervis/lib/python3.11/site-packages/seaborn/_oldcore.py:1498: FutureWarning: is_categorical_dtype is deprecated and will be removed in a future version. Use isinstance(dtype, CategoricalDtype) instead\n",
      "  if pd.api.types.is_categorical_dtype(vector):\n",
      "/home/wreiner/tmp/_sem3-swd22/visdatam/.venv/jupytervis/lib/python3.11/site-packages/seaborn/_oldcore.py:1119: FutureWarning: use_inf_as_na option is deprecated and will be removed in a future version. Convert inf values to NaN before operating instead.\n",
      "  with pd.option_context('mode.use_inf_as_na', True):\n"
     ]
    },
    {
     "data": {
      "text/plain": [
       "<seaborn.axisgrid.FacetGrid at 0x7f849c202b90>"
      ]
     },
     "execution_count": 6,
     "metadata": {},
     "output_type": "execute_result"
    },
    {
     "data": {
      "image/png": "[encoded data removed]",
      "text/plain": [
       "<Figure size 911.111x300 with 3 Axes>"
      ]
     },
     "metadata": {},
     "output_type": "display_data"
    }
   ],
   "source": [
    "g = sns.FacetGrid(rows_breweries, col='brewery')\n",
    "g.map(sns.histplot, 'rank')\n",
    "sns.set_style('darkgrid')\n",
    "g.add_legend()"
   ]
  },
  {
   "cell_type": "code",
   "execution_count": 7,
   "id": "1c812a9c-440c-43f5-a6bd-4fb752fe8ec4",
   "metadata": {},
   "outputs": [
    {
     "data": {
      "text/html": [
       "<div>\n",
       "<style scoped>\n",
       "    .dataframe tbody tr th:only-of-type {\n",
       "        vertical-align: middle;\n",
       "    }\n",
       "\n",
       "    .dataframe tbody tr th {\n",
       "        vertical-align: top;\n",
       "    }\n",
       "\n",
       "    .dataframe thead tr th {\n",
       "        text-align: left;\n",
       "    }\n",
       "\n",
       "    .dataframe thead tr:last-of-type th {\n",
       "        text-align: right;\n",
       "    }\n",
       "</style>\n",
       "<table border=\"1\" class=\"dataframe\">\n",
       "  <thead>\n",
       "    <tr>\n",
       "      <th></th>\n",
       "      <th colspan=\"8\" halign=\"left\">rank</th>\n",
       "      <th colspan=\"8\" halign=\"left\">score</th>\n",
       "    </tr>\n",
       "    <tr>\n",
       "      <th></th>\n",
       "      <th>count</th>\n",
       "      <th>mean</th>\n",
       "      <th>std</th>\n",
       "      <th>min</th>\n",
       "      <th>25%</th>\n",
       "      <th>50%</th>\n",
       "      <th>75%</th>\n",
       "      <th>max</th>\n",
       "      <th>count</th>\n",
       "      <th>mean</th>\n",
       "      <th>std</th>\n",
       "      <th>min</th>\n",
       "      <th>25%</th>\n",
       "      <th>50%</th>\n",
       "      <th>75%</th>\n",
       "      <th>max</th>\n",
       "    </tr>\n",
       "    <tr>\n",
       "      <th>style</th>\n",
       "      <th></th>\n",
       "      <th></th>\n",
       "      <th></th>\n",
       "      <th></th>\n",
       "      <th></th>\n",
       "      <th></th>\n",
       "      <th></th>\n",
       "      <th></th>\n",
       "      <th></th>\n",
       "      <th></th>\n",
       "      <th></th>\n",
       "      <th></th>\n",
       "      <th></th>\n",
       "      <th></th>\n",
       "      <th></th>\n",
       "      <th></th>\n",
       "    </tr>\n",
       "  </thead>\n",
       "  <tbody>\n",
       "    <tr>\n",
       "      <th>American Double / Imperial IPA</th>\n",
       "      <td>13.0</td>\n",
       "      <td>63.076923</td>\n",
       "      <td>20.710149</td>\n",
       "      <td>27.0</td>\n",
       "      <td>51.00</td>\n",
       "      <td>66.0</td>\n",
       "      <td>76.00</td>\n",
       "      <td>95.0</td>\n",
       "      <td>13.0</td>\n",
       "      <td>4.116923</td>\n",
       "      <td>0.061831</td>\n",
       "      <td>4.01</td>\n",
       "      <td>4.070</td>\n",
       "      <td>4.120</td>\n",
       "      <td>4.1600</td>\n",
       "      <td>4.24</td>\n",
       "    </tr>\n",
       "    <tr>\n",
       "      <th>American IPA</th>\n",
       "      <td>18.0</td>\n",
       "      <td>43.222222</td>\n",
       "      <td>29.997168</td>\n",
       "      <td>5.0</td>\n",
       "      <td>19.50</td>\n",
       "      <td>41.0</td>\n",
       "      <td>69.25</td>\n",
       "      <td>90.0</td>\n",
       "      <td>18.0</td>\n",
       "      <td>4.176111</td>\n",
       "      <td>0.111310</td>\n",
       "      <td>3.95</td>\n",
       "      <td>4.110</td>\n",
       "      <td>4.180</td>\n",
       "      <td>4.2575</td>\n",
       "      <td>4.36</td>\n",
       "    </tr>\n",
       "    <tr>\n",
       "      <th>Russian Imperial Stout</th>\n",
       "      <td>10.0</td>\n",
       "      <td>47.700000</td>\n",
       "      <td>30.262004</td>\n",
       "      <td>17.0</td>\n",
       "      <td>25.25</td>\n",
       "      <td>41.0</td>\n",
       "      <td>57.50</td>\n",
       "      <td>99.0</td>\n",
       "      <td>10.0</td>\n",
       "      <td>4.169000</td>\n",
       "      <td>0.120227</td>\n",
       "      <td>3.98</td>\n",
       "      <td>4.065</td>\n",
       "      <td>4.205</td>\n",
       "      <td>4.2250</td>\n",
       "      <td>4.34</td>\n",
       "    </tr>\n",
       "  </tbody>\n",
       "</table>\n",
       "</div>"
      ],
      "text/plain": [
       "                                rank                                           \\\n",
       "                               count       mean        std   min    25%   50%   \n",
       "style                                                                           \n",
       "American Double / Imperial IPA  13.0  63.076923  20.710149  27.0  51.00  66.0   \n",
       "American IPA                    18.0  43.222222  29.997168   5.0  19.50  41.0   \n",
       "Russian Imperial Stout          10.0  47.700000  30.262004  17.0  25.25  41.0   \n",
       "\n",
       "                                            score                            \\\n",
       "                                  75%   max count      mean       std   min   \n",
       "style                                                                         \n",
       "American Double / Imperial IPA  76.00  95.0  13.0  4.116923  0.061831  4.01   \n",
       "American IPA                    69.25  90.0  18.0  4.176111  0.111310  3.95   \n",
       "Russian Imperial Stout          57.50  99.0  10.0  4.169000  0.120227  3.98   \n",
       "\n",
       "                                                            \n",
       "                                  25%    50%     75%   max  \n",
       "style                                                       \n",
       "American Double / Imperial IPA  4.070  4.120  4.1600  4.24  \n",
       "American IPA                    4.110  4.180  4.2575  4.36  \n",
       "Russian Imperial Stout          4.065  4.205  4.2250  4.34  "
      ]
     },
     "execution_count": 7,
     "metadata": {},
     "output_type": "execute_result"
    }
   ],
   "source": [
    "rows_styles = beers.loc[beers['style'].isin(top3styles)]\n",
    "rows_styles.groupby('style')[['rank', 'score']].describe()\n",
    "\n",
    "# American IPA"
   ]
  },
  {
   "cell_type": "code",
   "execution_count": 8,
   "id": "64de8dee-d52c-4348-ac57-052632bc16bd",
   "metadata": {},
   "outputs": [
    {
     "name": "stderr",
     "output_type": "stream",
     "text": [
      "/home/wreiner/tmp/_sem3-swd22/visdatam/.venv/jupytervis/lib/python3.11/site-packages/seaborn/_oldcore.py:1498: FutureWarning: is_categorical_dtype is deprecated and will be removed in a future version. Use isinstance(dtype, CategoricalDtype) instead\n",
      "  if pd.api.types.is_categorical_dtype(vector):\n",
      "/home/wreiner/tmp/_sem3-swd22/visdatam/.venv/jupytervis/lib/python3.11/site-packages/seaborn/_oldcore.py:1498: FutureWarning: is_categorical_dtype is deprecated and will be removed in a future version. Use isinstance(dtype, CategoricalDtype) instead\n",
      "  if pd.api.types.is_categorical_dtype(vector):\n",
      "/home/wreiner/tmp/_sem3-swd22/visdatam/.venv/jupytervis/lib/python3.11/site-packages/seaborn/_oldcore.py:1119: FutureWarning: use_inf_as_na option is deprecated and will be removed in a future version. Convert inf values to NaN before operating instead.\n",
      "  with pd.option_context('mode.use_inf_as_na', True):\n",
      "/home/wreiner/tmp/_sem3-swd22/visdatam/.venv/jupytervis/lib/python3.11/site-packages/seaborn/_oldcore.py:1498: FutureWarning: is_categorical_dtype is deprecated and will be removed in a future version. Use isinstance(dtype, CategoricalDtype) instead\n",
      "  if pd.api.types.is_categorical_dtype(vector):\n",
      "/home/wreiner/tmp/_sem3-swd22/visdatam/.venv/jupytervis/lib/python3.11/site-packages/seaborn/_oldcore.py:1119: FutureWarning: use_inf_as_na option is deprecated and will be removed in a future version. Convert inf values to NaN before operating instead.\n",
      "  with pd.option_context('mode.use_inf_as_na', True):\n",
      "/home/wreiner/tmp/_sem3-swd22/visdatam/.venv/jupytervis/lib/python3.11/site-packages/seaborn/_oldcore.py:1498: FutureWarning: is_categorical_dtype is deprecated and will be removed in a future version. Use isinstance(dtype, CategoricalDtype) instead\n",
      "  if pd.api.types.is_categorical_dtype(vector):\n",
      "/home/wreiner/tmp/_sem3-swd22/visdatam/.venv/jupytervis/lib/python3.11/site-packages/seaborn/_oldcore.py:1119: FutureWarning: use_inf_as_na option is deprecated and will be removed in a future version. Convert inf values to NaN before operating instead.\n",
      "  with pd.option_context('mode.use_inf_as_na', True):\n"
     ]
    },
    {
     "data": {
      "text/plain": [
       "<seaborn.axisgrid.FacetGrid at 0x7f847c17c650>"
      ]
     },
     "execution_count": 8,
     "metadata": {},
     "output_type": "execute_result"
    },
    {
     "data": {
      "image/png": "[encoded data removed]",
      "text/plain": [
       "<Figure size 911.111x300 with 3 Axes>"
      ]
     },
     "metadata": {},
     "output_type": "display_data"
    }
   ],
   "source": [
    "g = sns.FacetGrid(rows_styles, col='style')\n",
    "g.map(sns.histplot, 'rank')\n",
    "sns.set_style('darkgrid')\n",
    "g.add_legend()"
   ]
  },
  {
   "cell_type": "markdown",
   "id": "e8fb3f8e-5795-46bd-b21e-f7728947e133",
   "metadata": {},
   "source": [
    "### Das Bier welcher Brauerei und welcher Art würden Sie jemandem empfehlen, wenn Sie sich nach dem Score richten? (Betrachten Sie hier nur die 3 häufigsten Arten) [3]\n",
    "\n",
    "- Brauerei: Bellwoods Brewery (höchster mean Wert)\n",
    "- Art: American IPA (höchster mean Wert)"
   ]
  },
  {
   "cell_type": "code",
   "execution_count": 9,
   "id": "cba0afb6-bfa1-4f62-b8e4-bf36fedc0a75",
   "metadata": {},
   "outputs": [
    {
     "data": {
      "text/html": [
       "<div>\n",
       "<style scoped>\n",
       "    .dataframe tbody tr th:only-of-type {\n",
       "        vertical-align: middle;\n",
       "    }\n",
       "\n",
       "    .dataframe tbody tr th {\n",
       "        vertical-align: top;\n",
       "    }\n",
       "\n",
       "    .dataframe thead th {\n",
       "        text-align: right;\n",
       "    }\n",
       "</style>\n",
       "<table border=\"1\" class=\"dataframe\">\n",
       "  <thead>\n",
       "    <tr style=\"text-align: right;\">\n",
       "      <th></th>\n",
       "      <th>Unnamed: 0</th>\n",
       "      <th>rank</th>\n",
       "      <th>name</th>\n",
       "      <th>brewery</th>\n",
       "      <th>style</th>\n",
       "      <th>abv</th>\n",
       "      <th>score</th>\n",
       "      <th>ratings</th>\n",
       "      <th>american</th>\n",
       "    </tr>\n",
       "  </thead>\n",
       "  <tbody>\n",
       "    <tr>\n",
       "      <th>95</th>\n",
       "      <td>95</td>\n",
       "      <td>96</td>\n",
       "      <td>Red Racer Gingerhead Gingerbread Stout</td>\n",
       "      <td>Central City Brewers + Distillers</td>\n",
       "      <td>Irish Dry Stout</td>\n",
       "      <td>6.0</td>\n",
       "      <td>4.04</td>\n",
       "      <td>84</td>\n",
       "      <td>No</td>\n",
       "    </tr>\n",
       "    <tr>\n",
       "      <th>96</th>\n",
       "      <td>96</td>\n",
       "      <td>97</td>\n",
       "      <td>Solstice D'hiver</td>\n",
       "      <td>Brasserie Dieu du Ciel!</td>\n",
       "      <td>American Barleywine</td>\n",
       "      <td>10.2</td>\n",
       "      <td>3.91</td>\n",
       "      <td>921</td>\n",
       "      <td>Yes</td>\n",
       "    </tr>\n",
       "    <tr>\n",
       "      <th>97</th>\n",
       "      <td>97</td>\n",
       "      <td>98</td>\n",
       "      <td>Long, Dark Voyage To Uranus</td>\n",
       "      <td>Sawdust City Brewing Co.</td>\n",
       "      <td>Russian Imperial Stout</td>\n",
       "      <td>8.5</td>\n",
       "      <td>4.04</td>\n",
       "      <td>83</td>\n",
       "      <td>No</td>\n",
       "    </tr>\n",
       "    <tr>\n",
       "      <th>98</th>\n",
       "      <td>98</td>\n",
       "      <td>99</td>\n",
       "      <td>Amsterdam Tempest Imperial Stout</td>\n",
       "      <td>Amsterdam Brewing Company</td>\n",
       "      <td>Russian Imperial Stout</td>\n",
       "      <td>9.0</td>\n",
       "      <td>3.98</td>\n",
       "      <td>138</td>\n",
       "      <td>No</td>\n",
       "    </tr>\n",
       "    <tr>\n",
       "      <th>99</th>\n",
       "      <td>99</td>\n",
       "      <td>100</td>\n",
       "      <td>Rigor Mortis Abt</td>\n",
       "      <td>Brasserie Dieu du Ciel!</td>\n",
       "      <td>Quadrupel (Quad)</td>\n",
       "      <td>10.5</td>\n",
       "      <td>3.91</td>\n",
       "      <td>759</td>\n",
       "      <td>No</td>\n",
       "    </tr>\n",
       "  </tbody>\n",
       "</table>\n",
       "</div>"
      ],
      "text/plain": [
       "    Unnamed: 0  rank                                    name  \\\n",
       "95          95    96  Red Racer Gingerhead Gingerbread Stout   \n",
       "96          96    97                        Solstice D'hiver   \n",
       "97          97    98             Long, Dark Voyage To Uranus   \n",
       "98          98    99        Amsterdam Tempest Imperial Stout   \n",
       "99          99   100                        Rigor Mortis Abt   \n",
       "\n",
       "                              brewery                   style   abv  score  \\\n",
       "95  Central City Brewers + Distillers         Irish Dry Stout   6.0   4.04   \n",
       "96            Brasserie Dieu du Ciel!     American Barleywine  10.2   3.91   \n",
       "97           Sawdust City Brewing Co.  Russian Imperial Stout   8.5   4.04   \n",
       "98          Amsterdam Brewing Company  Russian Imperial Stout   9.0   3.98   \n",
       "99            Brasserie Dieu du Ciel!        Quadrupel (Quad)  10.5   3.91   \n",
       "\n",
       "    ratings american  \n",
       "95       84       No  \n",
       "96      921      Yes  \n",
       "97       83       No  \n",
       "98      138       No  \n",
       "99      759       No  "
      ]
     },
     "execution_count": 9,
     "metadata": {},
     "output_type": "execute_result"
    }
   ],
   "source": [
    "## Fügen Sie eine Variable ein, die anzeigt, ob es sich um ein american style beer handelt (Tipp: beerstyle). Wie siehen scores und rank in diesem Fall aus? [3]\n",
    "def is_american_style(row):\n",
    "    if row['style'].lower().find('american') == 0:\n",
    "        return \"Yes\"\n",
    "    return \"No\"\n",
    "\n",
    "beers[\"american\"] = beers.apply(is_american_style, axis=1)\n",
    "\n",
    "beers.tail()"
   ]
  },
  {
   "cell_type": "code",
   "execution_count": 10,
   "id": "1b10ea74-fe9d-493d-a520-6dba66eab635",
   "metadata": {},
   "outputs": [
    {
     "name": "stderr",
     "output_type": "stream",
     "text": [
      "/home/wreiner/tmp/_sem3-swd22/visdatam/.venv/jupytervis/lib/python3.11/site-packages/seaborn/categorical.py:486: FutureWarning: Series.__getitem__ treating keys as positions is deprecated. In a future version, integer keys will always be treated as labels (consistent with DataFrame behavior). To access a value by position, use `ser.iloc[pos]`\n",
      "  if np.isscalar(data[0]):\n",
      "/home/wreiner/tmp/_sem3-swd22/visdatam/.venv/jupytervis/lib/python3.11/site-packages/seaborn/categorical.py:486: FutureWarning: Series.__getitem__ treating keys as positions is deprecated. In a future version, integer keys will always be treated as labels (consistent with DataFrame behavior). To access a value by position, use `ser.iloc[pos]`\n",
      "  if np.isscalar(data[0]):\n"
     ]
    },
    {
     "data": {
      "image/png": "[encoded data removed]",
      "text/plain": [
       "<Figure size 2000x1500 with 2 Axes>"
      ]
     },
     "metadata": {},
     "output_type": "display_data"
    }
   ],
   "source": [
    "## Untersuchen Sie die Unterschiede zwischen ‘Ale’ und ‘Stout’ Bieren. [5]\n",
    "\n",
    "# Ale\n",
    "# ale_statsis = beers[beers['style'].str.contains('ale', case=False)].describe()\n",
    "# ale_statsis.plot.bar()\n",
    "\n",
    "# beers[beers['style'].str.contains('ale', case=False)]['abv'].describe(include='all').plot.box()\n",
    "\n",
    "# ale_abv = beers[beers['style'].str.contains('ale', case=False)]['abv'].describe(include='all').loc['mean']\n",
    "# ale_score = beers[beers['style'].str.contains('ale', case=False)]['score'].describe(include='all').loc['mean']\n",
    "\n",
    "### ABV\n",
    "\n",
    "fig, ax = plt.subplots(1,2, figsize=(20,15))\n",
    "ax.flatten()\n",
    "\n",
    "ale_a = beers[beers['style'].str.contains('ale', case=False)]['abv'].describe(include='all')\n",
    "sns.boxplot(data=ale_a, ax=ax[0])\n",
    "ax[0].set_xlabel(\"ABV\")\n",
    "ax[0].set_ylabel(\"Alcohol by Volume\")\n",
    "ax[0].set_title(\"Alcohol by Volume (Ale)\")\n",
    "ax[0].set_ylim([0, 13])\n",
    "\n",
    "stout_a = beers[beers['style'].str.contains('stout', case=False)]['abv'].describe(include='all')\n",
    "sns.boxplot(data=stout_a, ax=ax[1])\n",
    "ax[1].set_xlabel(\"ABV\")\n",
    "ax[1].set_ylabel(\"Alcohol by Volume\")\n",
    "ax[1].set_title(\"Alcohol by Volume (Stout)\")\n",
    "ax[1].set_ylim([0, 13])\n",
    "\n",
    "plt.show()\n"
   ]
  },
  {
   "cell_type": "code",
   "execution_count": 11,
   "id": "cc501fe8-548f-4513-84f2-ebaf37faab3c",
   "metadata": {},
   "outputs": [
    {
     "name": "stderr",
     "output_type": "stream",
     "text": [
      "/home/wreiner/tmp/_sem3-swd22/visdatam/.venv/jupytervis/lib/python3.11/site-packages/seaborn/categorical.py:486: FutureWarning: Series.__getitem__ treating keys as positions is deprecated. In a future version, integer keys will always be treated as labels (consistent with DataFrame behavior). To access a value by position, use `ser.iloc[pos]`\n",
      "  if np.isscalar(data[0]):\n",
      "/home/wreiner/tmp/_sem3-swd22/visdatam/.venv/jupytervis/lib/python3.11/site-packages/seaborn/categorical.py:486: FutureWarning: Series.__getitem__ treating keys as positions is deprecated. In a future version, integer keys will always be treated as labels (consistent with DataFrame behavior). To access a value by position, use `ser.iloc[pos]`\n",
      "  if np.isscalar(data[0]):\n"
     ]
    },
    {
     "data": {
      "image/png": "[encoded data removed]",
      "text/plain": [
       "<Figure size 2000x2000 with 2 Axes>"
      ]
     },
     "metadata": {},
     "output_type": "display_data"
    }
   ],
   "source": [
    "### Score\n",
    "\n",
    "fig, ax = plt.subplots(1,2, figsize=(20,20))\n",
    "ax.flatten()\n",
    "\n",
    "ale_s = beers[beers['style'].str.contains('ale', case=False)]['score'].describe(include='all')\n",
    "sns.boxplot(data=ale_s, ax=ax[0])\n",
    "ax[0].set_xlabel(\"Score\")\n",
    "ax[0].set_ylabel(\"Value\")\n",
    "ax[0].set_title(\"Score Comparison (Ale)\")\n",
    "ax[0].set_ylim([3.5, 5])\n",
    "\n",
    "stout_s = beers[beers['style'].str.contains('stout', case=False)]['score'].describe(include='all')\n",
    "sns.boxplot(data=stout_s, ax=ax[1])\n",
    "ax[1].set_xlabel(\"Score\")\n",
    "ax[1].set_ylabel(\"Value\")\n",
    "ax[1].set_title(\"Score Comparison (Ale)\")\n",
    "ax[1].set_ylim([3.5, 5])\n",
    "\n",
    "plt.show()\n",
    "\n",
    "# Stout\n",
    "\n",
    "# beers[beers['style'].str.contains('stout', case=False)].describe()\n",
    "\n",
    "# beers[beers['style'].str.contains('stout', case=False)]['abv'].describe(include='all').plot.box()\n",
    "\n",
    "# stout_abv = beers[beers['style'].str.contains('stout', case=False)]['abv'].describe(include='all').loc['mean']\n",
    "# stout_score = beers[beers['style'].str.contains('stout', case=False)]['score'].describe(include='all').loc['mean']"
   ]
  },
  {
   "cell_type": "code",
   "execution_count": 14,
   "id": "693b04ac-b9f7-4f33-a139-4175f2d8b49b",
   "metadata": {},
   "outputs": [],
   "source": [
    "### Korrelationskoeffizient"
   ]
  },
  {
   "cell_type": "code",
   "execution_count": 12,
   "id": "222b4038-d674-4202-9ac0-885375a18ca5",
   "metadata": {},
   "outputs": [
    {
     "name": "stdout",
     "output_type": "stream",
     "text": [
      "R_abv_all: -0.12523753746670946\n"
     ]
    }
   ],
   "source": [
    "all_abv_pr = pearsonr(beers['rank'], beers['abv'])\n",
    "print(\"R_abv_all: \" + str(all_abv_pr[0]))"
   ]
  },
  {
   "cell_type": "code",
   "execution_count": 13,
   "id": "39926b73-ba4d-4de8-9ccd-42b0d17546ff",
   "metadata": {},
   "outputs": [
    {
     "name": "stdout",
     "output_type": "stream",
     "text": [
      "R_score_all: -0.7482512972721579\n"
     ]
    }
   ],
   "source": [
    "all_score_pr = pearsonr(beers['rank'], beers['score'])\n",
    "print(\"R_score_all: \" + str(all_score_pr[0]))"
   ]
  },
  {
   "cell_type": "code",
   "execution_count": null,
   "id": "17a51667-7533-477f-ba1d-b0b433302946",
   "metadata": {},
   "outputs": [],
   "source": [
    "## Untersuchen Sie den Score in Abhängigkeit der anderen Variablen. Welche Variablen haben Ihrer Meinung nach einen Einfluss?"
   ]
  },
  {
   "cell_type": "code",
   "execution_count": null,
   "id": "fc56d3fc-22a0-4681-b1e8-3cc709c53229",
   "metadata": {},
   "outputs": [],
   "source": []
  }
 ],
 "metadata": {
  "kernelspec": {
   "display_name": "Python 3 (ipykernel)",
   "language": "python",
   "name": "python3"
  },
  "language_info": {
   "codemirror_mode": {
    "name": "ipython",
    "version": 3
   },
   "file_extension": ".py",
   "mimetype": "text/x-python",
   "name": "python",
   "nbconvert_exporter": "python",
   "pygments_lexer": "ipython3",
   "version": "3.11.6"
  }
 },
 "nbformat": 4,
 "nbformat_minor": 5
}
